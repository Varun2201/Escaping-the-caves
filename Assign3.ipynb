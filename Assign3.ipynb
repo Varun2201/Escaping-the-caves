{
 "cells": [
  {
   "cell_type": "code",
   "execution_count": 1,
   "id": "3249765b",
   "metadata": {
    "ExecuteTime": {
     "end_time": "2022-02-16T11:06:35.291295Z",
     "start_time": "2022-02-16T11:06:35.263372Z"
    }
   },
   "outputs": [],
   "source": [
    "import gmpy2"
   ]
  },
  {
   "cell_type": "code",
   "execution_count": 2,
   "id": "c10e6af3",
   "metadata": {
    "ExecuteTime": {
     "end_time": "2022-02-16T11:06:35.306256Z",
     "start_time": "2022-02-16T11:06:35.294288Z"
    }
   },
   "outputs": [],
   "source": [
    "x1 = 431955503618234519808008749742\n",
    "x2 = 176325509039323911968355873643\n",
    "x3 = 98486971404861992487294722613\n",
    "p = 455470209427676832372575348833"
   ]
  },
  {
   "cell_type": "code",
   "execution_count": 3,
   "id": "3fae304a",
   "metadata": {
    "ExecuteTime": {
     "end_time": "2022-02-16T11:06:35.337172Z",
     "start_time": "2022-02-16T11:06:35.309247Z"
    }
   },
   "outputs": [
    {
     "data": {
      "text/plain": [
       "mpz(70749996790223471732904681640)"
      ]
     },
     "execution_count": 3,
     "metadata": {},
     "output_type": "execute_result"
    }
   ],
   "source": [
    "invx1 = gmpy2.invert(x1,p)\n",
    "invx1"
   ]
  },
  {
   "cell_type": "code",
   "execution_count": 4,
   "id": "1ddd3659",
   "metadata": {
    "ExecuteTime": {
     "end_time": "2022-02-16T11:06:35.367092Z",
     "start_time": "2022-02-16T11:06:35.340166Z"
    }
   },
   "outputs": [
    {
     "data": {
      "text/plain": [
       "mpz(228947149478752602606353685125)"
      ]
     },
     "execution_count": 4,
     "metadata": {},
     "output_type": "execute_result"
    }
   ],
   "source": [
    "invx2 = gmpy2.invert(x2,p)\n",
    "invx2"
   ]
  },
  {
   "cell_type": "code",
   "execution_count": 5,
   "id": "dc8ded29",
   "metadata": {
    "ExecuteTime": {
     "end_time": "2022-02-16T11:06:35.383051Z",
     "start_time": "2022-02-16T11:06:35.369088Z"
    }
   },
   "outputs": [
    {
     "data": {
      "text/plain": [
       "mpz(420413074251022028027270785553)"
      ]
     },
     "execution_count": 5,
     "metadata": {},
     "output_type": "execute_result"
    }
   ],
   "source": [
    "g5623 = (x3 * invx2)%p\n",
    "g5623"
   ]
  },
  {
   "cell_type": "code",
   "execution_count": 6,
   "id": "1527564a",
   "metadata": {
    "ExecuteTime": {
     "end_time": "2022-02-16T11:06:35.414966Z",
     "start_time": "2022-02-16T11:06:35.386046Z"
    }
   },
   "outputs": [
    {
     "data": {
      "text/plain": [
       "mpz(111590994894663139264552154672)"
      ]
     },
     "execution_count": 6,
     "metadata": {},
     "output_type": "execute_result"
    }
   ],
   "source": [
    "g1544 = (x2 * invx1)%p\n",
    "g1544"
   ]
  },
  {
   "cell_type": "code",
   "execution_count": 7,
   "id": "277e7a40",
   "metadata": {
    "ExecuteTime": {
     "end_time": "2022-02-16T11:06:35.430922Z",
     "start_time": "2022-02-16T11:06:35.416961Z"
    }
   },
   "outputs": [
    {
     "data": {
      "text/plain": [
       "mpz(110411376670918912626907526185)"
      ]
     },
     "execution_count": 7,
     "metadata": {},
     "output_type": "execute_result"
    }
   ],
   "source": [
    "g7167 = (x3* invx1)%p\n",
    "g7167"
   ]
  },
  {
   "cell_type": "code",
   "execution_count": 8,
   "id": "0bfc0d80",
   "metadata": {
    "ExecuteTime": {
     "end_time": "2022-02-16T11:06:35.446889Z",
     "start_time": "2022-02-16T11:06:35.434912Z"
    }
   },
   "outputs": [
    {
     "data": {
      "text/plain": [
       "mpz(161798558270556961732424822635)"
      ]
     },
     "execution_count": 8,
     "metadata": {},
     "output_type": "execute_result"
    }
   ],
   "source": [
    "g991 = (g5623 * gmpy2.invert(pow(g1544,3,p),p))%p\n",
    "g991"
   ]
  },
  {
   "cell_type": "code",
   "execution_count": 9,
   "id": "88df4e06",
   "metadata": {
    "ExecuteTime": {
     "end_time": "2022-02-16T11:06:35.478794Z",
     "start_time": "2022-02-16T11:06:35.450869Z"
    }
   },
   "outputs": [
    {
     "data": {
      "text/plain": [
       "mpz(263509268584013168241508095725)"
      ]
     },
     "execution_count": 9,
     "metadata": {},
     "output_type": "execute_result"
    }
   ],
   "source": [
    "g230 = (g7167*gmpy2.invert(pow(g991,7,p),p))%p\n",
    "g230"
   ]
  },
  {
   "cell_type": "code",
   "execution_count": 10,
   "id": "0f6a7758",
   "metadata": {
    "ExecuteTime": {
     "end_time": "2022-02-16T11:06:35.493764Z",
     "start_time": "2022-02-16T11:06:35.481787Z"
    }
   },
   "outputs": [
    {
     "data": {
      "text/plain": [
       "mpz(81667014892317214151967824518)"
      ]
     },
     "execution_count": 10,
     "metadata": {},
     "output_type": "execute_result"
    }
   ],
   "source": [
    "g66 = (pow(g230,7,p)*gmpy2.invert(g1544,p))%p\n",
    "g66"
   ]
  },
  {
   "cell_type": "code",
   "execution_count": 11,
   "id": "e154bb44",
   "metadata": {
    "ExecuteTime": {
     "end_time": "2022-02-16T11:06:35.509718Z",
     "start_time": "2022-02-16T11:06:35.498742Z"
    }
   },
   "outputs": [
    {
     "data": {
      "text/plain": [
       "mpz(454838375047265263248274620636)"
      ]
     },
     "execution_count": 11,
     "metadata": {},
     "output_type": "execute_result"
    }
   ],
   "source": [
    "g34 = (pow(g66,4,p)*gmpy2.invert(g230,p))%p\n",
    "g34"
   ]
  },
  {
   "cell_type": "code",
   "execution_count": 12,
   "id": "37744b60",
   "metadata": {
    "ExecuteTime": {
     "end_time": "2022-02-16T11:06:35.540629Z",
     "start_time": "2022-02-16T11:06:35.514699Z"
    }
   },
   "outputs": [
    {
     "data": {
      "text/plain": [
       "mpz(108044907665466013935627786069)"
      ]
     },
     "execution_count": 12,
     "metadata": {},
     "output_type": "execute_result"
    }
   ],
   "source": [
    "g2 = (pow(g34,2,p)*gmpy2.invert(g66,p))%p\n",
    "g2"
   ]
  },
  {
   "cell_type": "code",
   "execution_count": 13,
   "id": "2fd7a023",
   "metadata": {
    "ExecuteTime": {
     "end_time": "2022-02-16T11:06:35.570549Z",
     "start_time": "2022-02-16T11:06:35.543622Z"
    }
   },
   "outputs": [
    {
     "data": {
      "text/plain": [
       "mpz(52565085417963311027694339)"
      ]
     },
     "execution_count": 13,
     "metadata": {},
     "output_type": "execute_result"
    }
   ],
   "source": [
    "g = (g991*gmpy2.invert(pow(g2,495,p),p))%p\n",
    "g"
   ]
  },
  {
   "cell_type": "code",
   "execution_count": 14,
   "id": "5e4d8b0c",
   "metadata": {
    "ExecuteTime": {
     "end_time": "2022-02-16T11:06:35.586508Z",
     "start_time": "2022-02-16T11:06:35.572543Z"
    }
   },
   "outputs": [
    {
     "data": {
      "text/plain": [
       "mpz(442956820316148690889301696615)"
      ]
     },
     "execution_count": 14,
     "metadata": {},
     "output_type": "execute_result"
    }
   ],
   "source": [
    "invg429 = gmpy2.invert(pow(g,429,p),p)\n",
    "invg429"
   ]
  },
  {
   "cell_type": "code",
   "execution_count": 15,
   "id": "b9f21813",
   "metadata": {
    "ExecuteTime": {
     "end_time": "2022-02-16T11:06:35.618423Z",
     "start_time": "2022-02-16T11:06:35.597478Z"
    }
   },
   "outputs": [
    {
     "data": {
      "text/plain": [
       "mpz(134721542097659029845273957)"
      ]
     },
     "execution_count": 15,
     "metadata": {},
     "output_type": "execute_result"
    }
   ],
   "source": [
    "password = (invg429*x1)%p\n",
    "password"
   ]
  }
 ],
 "metadata": {
  "kernelspec": {
   "display_name": "Python 3",
   "language": "python",
   "name": "python3"
  },
  "language_info": {
   "codemirror_mode": {
    "name": "ipython",
    "version": 3
   },
   "file_extension": ".py",
   "mimetype": "text/x-python",
   "name": "python",
   "nbconvert_exporter": "python",
   "pygments_lexer": "ipython3",
   "version": "3.8.8"
  },
  "varInspector": {
   "cols": {
    "lenName": 16,
    "lenType": 16,
    "lenVar": 40
   },
   "kernels_config": {
    "python": {
     "delete_cmd_postfix": "",
     "delete_cmd_prefix": "del ",
     "library": "var_list.py",
     "varRefreshCmd": "print(var_dic_list())"
    },
    "r": {
     "delete_cmd_postfix": ") ",
     "delete_cmd_prefix": "rm(",
     "library": "var_list.r",
     "varRefreshCmd": "cat(var_dic_list()) "
    }
   },
   "types_to_exclude": [
    "module",
    "function",
    "builtin_function_or_method",
    "instance",
    "_Feature"
   ],
   "window_display": false
  }
 },
 "nbformat": 4,
 "nbformat_minor": 5
}

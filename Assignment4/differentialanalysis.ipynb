{
 "cells": [
  {
   "cell_type": "code",
   "execution_count": 1,
   "metadata": {
    "ExecuteTime": {
     "end_time": "2022-03-10T16:18:19.620825Z",
     "start_time": "2022-03-10T16:18:17.829843Z"
    },
    "id": "0VCRxMMKHWJu"
   },
   "outputs": [],
   "source": [
    "import numpy as np"
   ]
  },
  {
   "cell_type": "code",
   "execution_count": 2,
   "metadata": {
    "ExecuteTime": {
     "end_time": "2022-03-10T16:18:19.636446Z",
     "start_time": "2022-03-10T16:18:19.624469Z"
    },
    "id": "hF3sT4_QHqiH"
   },
   "outputs": [],
   "source": [
    "# Permute function to rearrange the bits \n",
    "def permute(k, arr, n): \n",
    "    permutation = \"\" \n",
    "    for i in range(0, n): \n",
    "        permutation = permutation + k[arr[i] - 1] \n",
    "    return permutation \n",
    "  \n",
    "# shifting the bits towards left by nth shifts \n",
    "def shift(k, n): \n",
    "    return k[n:] + k[0:n]"
   ]
  },
  {
   "cell_type": "code",
   "execution_count": 3,
   "metadata": {
    "ExecuteTime": {
     "end_time": "2022-03-10T16:18:19.730181Z",
     "start_time": "2022-03-10T16:18:19.654385Z"
    },
    "id": "h4fMtImBHrLf"
   },
   "outputs": [],
   "source": [
    "# Expansion E-box Table \n",
    "E = [32, 1 , 2 , 3 , 4 , 5 , 4 , 5,  \n",
    "         6 , 7 , 8 , 9 , 8 , 9 , 10, 11,  \n",
    "         12, 13, 12, 13, 14, 15, 16, 17,  \n",
    "         16, 17, 18, 19, 20, 21, 20, 21,  \n",
    "         22, 23, 24, 25, 24, 25, 26, 27,  \n",
    "         28, 29, 28, 29, 30, 31, 32, 1 ] \n",
    "  \n",
    "#Inverse of P\n",
    "INVP = [9, 17, 23, 31,\n",
    "\t      13, 28,  2, 18,\n",
    "\t      24, 16, 30,  6,\n",
    "\t      26, 20, 10,  1,\n",
    "\t       8, 14, 25,  3,\n",
    "\t       4, 29, 11, 19,\n",
    "\t      32, 12, 22,  7,\n",
    "\t       5, 27, 15, 21\n",
    "        ]\n",
    "\n",
    "# S-box Table \n",
    "sbox = [[[14, 4, 13, 1, 2, 15, 11, 8, 3 , 10, 6, 12, 5, 9, 0, 7],\n",
    "    [0, 15, 7, 4, 14, 2, 13, 1, 10, 6, 12, 11, 9, 5, 3, 8],\n",
    "    [4, 1 , 14, 8, 13, 6, 2, 11, 15, 12, 9, 7,3, 10, 5, 0],\n",
    "    [15, 12, 8,2,4, 9, 1,7 , 5, 11, 3, 14, 10, 0, 6, 13]],\n",
    "\n",
    "    [[15, 1, 8, 14, 6, 11, 3, 4, 9, 7, 2, 13, 12, 0,5, 10],\n",
    "    [3, 13, 4, 7, 15, 2, 8, 14, 12, 0, 1, 10, 6, 9, 11, 5],\n",
    "    [0, 14, 7, 11, 10, 4, 13, 1, 5, 8,12, 6, 9, 3, 2, 15],\n",
    "    [13, 8, 10, 1, 3, 15, 4, 2,11,6, 7, 12, 0,5, 14, 9]],\n",
    "\n",
    "    [[10, 0, 9,14,6,3,15,5, 1, 13, 12, 7, 11, 4,2,8],\n",
    "    [13, 7, 0, 9, 3, 4, 6, 10, 2, 8, 5, 14, 12, 11, 15, 1],\n",
    "    [13, 6, 4, 9, 8, 15, 3, 0, 11, 1, 2, 12,5, 10, 14, 7],\n",
    "    [1, 10, 13, 0, 6, 9, 8, 7, 4, 15, 14, 3, 11, 5, 2, 12]],\n",
    "\n",
    "    [[7, 13, 14, 3, 0, 6, 9, 10, 1, 2, 8, 5, 11, 12, 4, 15],\n",
    "    [13, 8, 11, 5, 6, 15, 0, 3, 4, 7, 2, 12, 1, 10, 14, 9],\n",
    "    [10, 6, 9, 0, 12, 11, 7, 13, 15, 1 , 3, 14, 5, 2, 8, 4],\n",
    "    [3, 15, 0, 6, 10, 1, 13, 8, 9, 4, 5, 11, 12, 7, 2, 14]],\n",
    "\n",
    "    [[2, 12, 4, 1, 7, 10, 11, 6, 8, 5, 3, 15, 13, 0, 14, 9],\n",
    "    [14, 11,2, 12, 4, 7, 13, 1, 5, 0, 15, 10, 3, 9, 8, 6],\n",
    "    [4, 2, 1, 11, 10, 13, 7, 8, 15, 9, 12, 5, 6, 3, 0, 14],\n",
    "    [11, 8, 12, 7, 1, 14, 2, 13, 6, 15, 0, 9, 10, 4, 5, 3]],\n",
    "\n",
    "    [[12, 1, 10, 15, 9, 2, 6,8, 0, 13, 3, 4, 14, 7, 5, 11],\n",
    "    [10, 15, 4, 2, 7, 12, 9, 5, 6, 1, 13, 14, 0, 11, 3, 8],\n",
    "    [9, 14, 15, 5, 2,8, 12, 3, 7, 0, 4, 10, 1, 13, 11, 6],\n",
    "    [4, 3, 2, 12, 9, 5, 15, 10, 11, 14, 1, 7, 6, 0, 8, 13]],\n",
    "\n",
    "    [[4, 11, 2, 14, 15, 0, 8, 13, 3, 12, 9, 7, 5, 10, 6, 1],\n",
    "    [13, 0, 11, 7, 4, 9, 1, 10, 14, 3, 5, 12, 2, 15, 8, 6],\n",
    "    [1, 4, 11, 13, 12, 3, 7, 14, 10, 15, 6, 8, 0, 5, 9, 2],\n",
    "    [6, 11, 13, 8, 1, 4, 10, 7, 9, 5, 0, 15, 14, 2, 3, 12]],\n",
    "\n",
    "    [[13, 2, 8, 4, 6, 15, 11, 1, 10, 9, 3, 14, 5, 0, 12,7],\n",
    "    [1, 15, 13, 8, 10, 3, 7, 4, 12, 5, 6, 11, 0, 14, 9, 2],\n",
    "    [7, 11, 4, 1, 9, 12, 14, 2, 0, 6, 10, 13, 15, 3, 5, 8],\n",
    "    [2, 1, 14, 7, 4, 10, 8, 13, 15, 12, 9, 0, 3, 5, 6, 11]]] \n",
    "    \n",
    "\n",
    "\n",
    "\n",
    "f2u_mapping={'d': '0000',\n",
    "             'e': '0001',\n",
    "             'f': '0010',\n",
    "             'g': '0011',\n",
    "             'h': '0100',\n",
    "             'i': '0101',\n",
    "             'j': '0110',\n",
    "             'k': '0111',\n",
    "             'l': '1000',\n",
    "             'm': '1001',\n",
    "             'n': '1010',\n",
    "             'o': '1011',\n",
    "             'p': '1100',\n",
    "             'q': '1101',\n",
    "             'r': '1110',\n",
    "             's': '1111'}\n",
    "     \n",
    "## Key Schedule\n",
    "PC2 = [                 \n",
    "  14, 17, 11, 24,  1, 5, \n",
    "  3, 28 ,15,  6, 21, 10, \n",
    "  23, 19, 12,  4, 26, 8, \n",
    "  16,  7, 27, 20, 13, 2, \n",
    "  41, 52, 31, 37, 47, 55, \n",
    "  30, 40, 51, 45, 33, 48, \n",
    "  44, 49, 39, 56, 34, 53, \n",
    "  46, 42, 50, 36, 29, 32\n",
    "]\n",
    "\n",
    "## Reverse Final Permutation\n",
    "RFP = [57, 49, 41, 33, 25, 17, 9,  1,\n",
    "       59, 51, 43, 35, 27, 19, 11, 3,\n",
    "       61, 53, 45, 37, 29, 21, 13, 5,\n",
    "       63, 55, 47, 39, 31, 23, 15, 7,\n",
    "       58, 50, 42, 34, 26, 18, 10, 2,\n",
    "       60, 52, 44, 36, 28, 20, 12, 4,\n",
    "       62, 54, 46, 38, 30, 22, 14, 6,\n",
    "       64, 56, 48, 40, 32, 24, 16, 8]\n",
    "\n",
    "#shift table \n",
    "shift_table = [1, 1, 2, 2,  \n",
    "                2, 2, 2, 2,  \n",
    "                1, 2, 2, 2,  \n",
    "                2, 2, 2, 1 ] \n",
    "  \n",
    "# Key- Compression Table : Compression of key from 56 bits to 48 bits \n",
    "key_comp = [14, 17, 11, 24, 1, 5,  \n",
    "            3, 28, 15, 6, 21, 10,  \n",
    "            23, 19, 12, 4, 26, 8,  \n",
    "            16, 7, 27, 20, 13, 2,  \n",
    "            41, 52, 31, 37, 47, 55,  \n",
    "            30, 40, 51, 45, 33, 48,  \n",
    "            44, 49, 39, 56, 34, 53,  \n",
    "            46, 42, 50, 36, 29, 32 ] \n",
    "  \n",
    "\n",
    "mapping = {\n",
    "           'd' : [0,0,0,0],\n",
    "           'e' : [0,0,0,1],\n",
    "           'f' : [0,0,1,0],\n",
    "           'g' : [0,0,1,1],\n",
    "           'h' : [0,1,0,0],\n",
    "           'i' : [0,1,0,1],\n",
    "           'j' : [0,1,1,0],\n",
    "           'k' : [0,1,1,1],\n",
    "           'l' : [1,0,0,0],\n",
    "           'm' : [1,0,0,1],\n",
    "           'n' : [1,0,1,0],\n",
    "           'o' : [1,0,1,1],\n",
    "           'p' : [1,1,0,0],\n",
    "           'q' : [1,1,0,1],\n",
    "           'r' : [1,1,1,0],\n",
    "           's' : [1,1,1,1]\n",
    "          }\n",
    "\n",
    "# Permutation at start of DES\n",
    "initial_perm = [58, 50, 42, 34, 26, 18, 10, 2,  \n",
    "                60, 52, 44, 36, 28, 20, 12, 4,  \n",
    "                62, 54, 46, 38, 30, 22, 14, 6,  \n",
    "                64, 56, 48, 40, 32, 24, 16, 8,  \n",
    "                57, 49, 41, 33, 25, 17, 9, 1,  \n",
    "                59, 51, 43, 35, 27, 19, 11, 3,  \n",
    "                61, 53, 45, 37, 29, 21, 13, 5,  \n",
    "                63, 55, 47, 39, 31, 23, 15, 7]\n",
    "\n",
    "## S Box Permutation Table\n",
    "sboxper = [ 16,  7, 20, 21, \n",
    "        29, 12, 28, 17,  \n",
    "         1, 15, 23, 26,  \n",
    "         5, 18, 31, 10,  \n",
    "         2,  8, 24, 14,  \n",
    "        32, 27,  3,  9,  \n",
    "        19, 13, 30,  6,  \n",
    "        22, 11,  4, 25 ] \n",
    "        \n",
    "## Permutation at the end of DES\n",
    "final_perm = [ 40, 8, 48, 16, 56, 24, 64, 32,  \n",
    "               39, 7, 47, 15, 55, 23, 63, 31,  \n",
    "               38, 6, 46, 14, 54, 22, 62, 30,  \n",
    "               37, 5, 45, 13, 53, 21, 61, 29,  \n",
    "               36, 4, 44, 12, 52, 20, 60, 28,  \n",
    "               35, 3, 43, 11, 51, 19, 59, 27,  \n",
    "               34, 2, 42, 10, 50, 18, 58, 26,  \n",
    "               33, 1, 41, 9, 49, 17, 57, 25 ] "
   ]
  },
  {
   "cell_type": "code",
   "execution_count": 4,
   "metadata": {
    "ExecuteTime": {
     "end_time": "2022-03-10T16:18:23.899238Z",
     "start_time": "2022-03-10T16:18:19.735169Z"
    },
    "colab": {
     "base_uri": "https://localhost:8080/"
    },
    "id": "rGQG2NeDIIEq",
    "outputId": "70c535f1-6101-48ca-f868-f97b183f5e0b"
   },
   "outputs": [
    {
     "name": "stdout",
     "output_type": "stream",
     "text": [
      "[[ 55.  50.  63.  70.  74.  68.  54.  73.  62.  71.  51.  67.  72.  71.\n",
      "   61.  78.  67.  55.  66.  64.  67.  62.  49.  58.  76.  73.  55.  64.\n",
      "   75.  62.  78.  56.  54.  58.  76.  68.  65.  76.  62.  60.  59.  62.\n",
      "   67.  65.  68. 122.  69.  72.  54.  77.  54.  77.  52.  71.  60.  64.\n",
      "   58.  64.  60.  69.  64.  74.  61.  57.]\n",
      " [ 79.  77.  79.  60. 109.  65.  89.  70.  63.  72.  85.  87.  59.  92.\n",
      "   77.  60.  65.  64.  74.  78.  66.  74.  91.  57.  71.  66.  79.  81.\n",
      "   80.  83.  87.  82.  73.  78.  65.  65.  65.  72.  80.  83.  90.  82.\n",
      "   54.  91.  62.  73.  72.  81.  77.  74.  87.  82.  77.  81.  78.  71.\n",
      "   70.  76.  91. 304.  66.  85.  81.  83.]\n",
      " [ 72.  64.  79.  68.  82.  56.  57.  57.  63.  72.  64.  67.  58.  54.\n",
      "   65.  64.  76.  71.  51.  60.  59.  63.  71.  65.  59.  80.  60.  63.\n",
      "   70.  73.  64.  75.  64.  58.  67.  75.  62. 114.  61.  62.  63.  60.\n",
      "   52.  70.  59.  70.  66.  58.  83.  68.  54.  63.  59.  53.  75.  54.\n",
      "   51.  73.  67.  76.  62.  62.  61.  68.]\n",
      " [ 57.  64.  59.  81.  58.  64.  55. 111.  60.  66.  64.  67.  68.  80.\n",
      "   79.  64.  56.  48.  61.  73.  64.  68.  66.  62.  68.  69.  70.  54.\n",
      "   81.  69.  71.  63.  72.  67.  71.  62.  63.  56.  70.  83.  88.  81.\n",
      "   60.  72.  73.  66.  57.  68.  64.  64.  75.  74.  53.  70.  61.  84.\n",
      "   59.  69.  56.  55.  61.  65.  60.  79.]\n",
      " [ 60.  78.  60.  76.  80.  59. 161.  71.  81.  68.  63.  70.  71.  73.\n",
      "   74.  63.  64.  70.  69.  64.  73.  82.  51.  57.  62.  61.  77.  59.\n",
      "   76.  77.  52.  71.  59.  69.  56.  72.  70.  63.  73.  65.  70.  86.\n",
      "   57.  64.  58.  74.  65.  70.  49.  48.  67.  67.  71.  80.  65.  77.\n",
      "   72.  70.  72.  78.  85.  77.  70.  76.]\n",
      " [ 57.  61.  77.  70.  66.  58.  72.  61.  81.  83.  68.  62.  64.  74.\n",
      "   60.  62.  68.  71.  73.  73.  70.  68.  53.  69.  65.  72.  86.  73.\n",
      "   66.  67.  71. 296.  64.  76.  61.  77.  77.  58.  60.  64.  69.  64.\n",
      "   66.  66.  67.  75.  67.  69.  63.  64.  72.  65.  65.  73.  65.  52.\n",
      "   60.  70.  78.  70.  57.  71.  65.  83.]\n",
      " [192.  66.  73.  61.  62.  58.  65.  65.  68.  62.  69.  75.  76.  82.\n",
      "   55.  64.  65.  72.  66.  75.  76.  76.  73.  62.  68.  63.  66.  65.\n",
      "   54.  59.  59.  79.  77.  72.  57.  57.  70.  77.  59.  68.  64.  72.\n",
      "   61.  71.  62.  66.  80.  54.  72.  62.  65.  77.  76.  67.  56.  65.\n",
      "   75.  62.  70.  74.  53.  67.  71.  80.]\n",
      " [ 68.  71.  73.  67.  57.  66.  63.  72.  73.  71.  72.  64.  61.  51.\n",
      "   74.  66.  74.  76.  72.  70.  55.  51.  59.  68.  66.  71.  55.  81.\n",
      "   62.  50.  67.  64.  84.  62.  62.  68.  59.  60.  67.  65.  77.  65.\n",
      "   80.  78.  75.  72.  59.  74.  63.  59. 170.  94.  66.  53.  78.  76.\n",
      "   83.  77.  77.  69.  79.  78.  64.  45.]]\n"
     ]
    }
   ],
   "source": [
    "#Computing XORs at IN and OUT of S-boxes for characteristic 40 08 00 00 04 00 00 00\n",
    "\n",
    "\n",
    "ciphertext = open('ciphertexts1.txt').read().split(\"\\n\")\n",
    "\n",
    "hexcipher =[]\n",
    "for c in ciphertext:\n",
    "  h=[]\n",
    "  if len(c) == 16:\n",
    "    for i in range(16):\n",
    "      h.extend(mapping[c[i]])\n",
    "    hexcipher.extend([h])\n",
    "\n",
    "\n",
    "##Inverse the final permutation\n",
    "\n",
    "invres = []\n",
    "for c in hexcipher:\n",
    "  temp=[]\n",
    "  for i in range(64):\n",
    "    temp.extend([c[RFP[i]-1]])\n",
    "\n",
    "  invres.extend([temp])\n",
    "\n",
    "\n",
    "##Xoring the ciphertext pairs according to differential\n",
    "\n",
    "resxor = []\n",
    "for i in range(0,len(invres)//2):\n",
    "  resxor.extend([list(np.bitwise_xor(invres[2*i],invres[2*i+1]))])\n",
    "\n",
    "##Expanding Right side block of Round 5\n",
    "\n",
    "expanded = []\n",
    "\n",
    "for i in range(0,len(invres)):\n",
    "  temp = []\n",
    "  for j in range(48):\n",
    "    temp.extend([invres[i][E[j]-1]])\n",
    "\n",
    "  expanded.extend([temp])\n",
    "\n",
    "##Xoring expanded to compute s box input\n",
    "\n",
    "sin = []\n",
    "for i in range(0,len(expanded)//2):\n",
    "  sin.extend([list(np.bitwise_xor(expanded[2*i],expanded[2*i+1]))])\n",
    "\n",
    "##Xoring L5 and R6\n",
    "\n",
    "L5 = [0,0,0,0,0,1]+[0]*26\n",
    "inxor = []\n",
    "for i in resxor:\n",
    "  inxor.extend([list(np.bitwise_xor(i[32:64],L5))])\n",
    "\n",
    "##Xoring sbox outputs\n",
    "\n",
    "sxor =[]\n",
    "for i in inxor:\n",
    "  temp = []\n",
    "  for j in range(32):\n",
    "    temp.extend([i[INVP[j]-1]])\n",
    "  sxor.extend([temp])\n",
    "\n",
    "##Finding the Keys  corresponding to Round 6 for above charcateristic\n",
    "\n",
    "keys = np.zeros((8,64))\n",
    "\n",
    "for i in range(len(sin)):\n",
    "  if sin[i]==\"\":\n",
    "        continue \n",
    "  for j in range(0,8):\n",
    "    inx = int(''.join([str(s) for s in sin[i][j*6:j*6+6]]),2)\n",
    "    outx = int(''.join([str(s) for s in sxor[i][j*4:j*4+4]]),2)\n",
    "    inp = int(''.join([str(s) for s in expanded[2*i+1][j*6:j*6+6]]),2)\n",
    " \n",
    "    for k in range(0,64):\n",
    "      a = bin(k)[2:].zfill(6)\n",
    "      b = bin(k^inx)[2:].zfill(6)\n",
    "      if outx == sbox[j][int(a[0])*2 + int(a[5])][int(a[4]) + 2 *int(a[3]) + int(a[2]) * 4 + int(a[1])*8]^sbox[j][int(b[0])*2 + int(b[5])][int(b[4]) + 2 *int(b[3]) + int(b[2]) * 4 + int(b[1])*8]:\n",
    "        keys[j][k^inp]+=1\n",
    "  \n",
    " \n",
    "print(keys)"
   ]
  },
  {
   "cell_type": "code",
   "execution_count": 5,
   "metadata": {
    "ExecuteTime": {
     "end_time": "2022-03-10T16:18:23.947123Z",
     "start_time": "2022-03-10T16:18:23.906219Z"
    },
    "colab": {
     "base_uri": "https://localhost:8080/"
    },
    "id": "kgKwT-c6XkZk",
    "outputId": "056d987d-767f-47c7-fd1a-35b4e947e4c7"
   },
   "outputs": [
    {
     "name": "stdout",
     "output_type": "stream",
     "text": [
      "S-box\tMax\tMean\tKey\n",
      "S1\t122.0\t65\t45\n",
      "S2\t304.0\t79\t59\n",
      "S3\t114.0\t65\t37\n",
      "S4\t111.0\t67\t7\n",
      "S5\t161.0\t69\t6\n",
      "S6\t296.0\t71\t31\n",
      "S7\t192.0\t69\t0\n",
      "S8\t170.0\t69\t50\n"
     ]
    }
   ],
   "source": [
    "maxval = [] \n",
    "mean = [] \n",
    "keyval = [] \n",
    "for i in range(len(keys)):     \n",
    "  mean.append(int(keys[i].mean()))     \n",
    "  current = max(keys[i])     \n",
    "  maxval.append(current)     \n",
    "  keyval.append(np.where(keys[i]==current)[0][0]) \n",
    "\n",
    "print(\"S-box\"+ \"\\t\" +\"Max\" + \"\\t\" + \"Mean\" + \"\\t\" + \"Key\") \n",
    "for i in range(0,8):     \n",
    "  print(\"S\"+ str(i+1) +\"\\t\"+ str(maxval[i]) + \"\\t\" + str(mean[i]) + \"\\t\" + str(keyval[i]))"
   ]
  },
  {
   "cell_type": "code",
   "execution_count": 6,
   "metadata": {
    "ExecuteTime": {
     "end_time": "2022-03-10T16:18:28.271132Z",
     "start_time": "2022-03-10T16:18:23.961642Z"
    },
    "colab": {
     "base_uri": "https://localhost:8080/"
    },
    "id": "cDJb6bqpdGhD",
    "outputId": "8b651fc8-1810-4992-cc9d-3aadb9dc502a"
   },
   "outputs": [
    {
     "name": "stdout",
     "output_type": "stream",
     "text": [
      "[[ 65.  70.  72.  52.  77.  65.  70.  63.  67.  65.  58.  85.  64.  75.\n",
      "   58.  69.  72.  67.  80.  53.  67.  75.  64.  57.  70.  82.  61.  79.\n",
      "   63.  64.  70.  78.  62.  75.  70.  56.  80.  74.  66.  60.  66.  62.\n",
      "   67.  72.  61. 170.  68.  73.  56.  72.  69.  67.  64.  71.  67.  60.\n",
      "   71.  79.  64.  77.  60.  69.  68.  61.]\n",
      " [ 73.  73.  76.  78.  83.  66.  74.  63.  74.  64.  70.  75.  64.  57.\n",
      "   68.  67.  52.  41.  65.  73.  58.  74.  89.  74.  58.  62.  59.  69.\n",
      "   69.  61.  77.  60.  56.  77.  63.  68.  58.  63.  69.  59.  58.  80.\n",
      "   67.  75.  59.  72.  66.  69.  70.  83.  75.  92.  63.  67.  70.  77.\n",
      "   59.  62.  78. 181.  58.  57.  66.  77.]\n",
      " [ 61.  63.  56.  65.  53.  63.  66.  44.  80.  71.  69.  58.  64.  59.\n",
      "   60.  70.  68.  64.  58.  76.  55.  65.  64.  53.  56.  54.  67.  57.\n",
      "   65.  52.  57.  57.  61.  66.  68.  60.  73. 130.  68.  69.  64.  72.\n",
      "   61.  58.  60.  50.  75.  57.  60.  59.  64.  64.  70.  73.  76.  88.\n",
      "   76.  53.  68.  62.  59.  65.  60.  69.]\n",
      " [ 64.  74.  72.  99.  65.  64. 102. 326.  80.  69.  76.  67. 111.  67.\n",
      "   75.  76.  92.  89.  77.  97.  68.  78.  89.  88.  96.  66.  85.  86.\n",
      "   66.  59.  83.  86.  82.  66.  77.  71.  65.  68.  81. 106. 102. 112.\n",
      "   79.  56.  83. 102.  59.  85.  84.  78.  93.  90.  60.  80.  63.  73.\n",
      "   87.  79.  79.  59.  91.  70.  90.  74.]\n",
      " [ 59.  73.  74.  80.  78.  73. 176.  64.  50.  75.  77.  89.  57.  58.\n",
      "   86.  77.  62.  89.  88.  65.  59.  77.  60.  65.  72.  71.  75.  76.\n",
      "   77.  84.  56.  60.  83.  77.  62.  72.  84.  69.  59.  59.  74.  69.\n",
      "   69.  68.  74.  64.  67.  59.  60.  79.  68.  71.  61.  78.  80.  78.\n",
      "   66.  83.  71.  78.  69.  81.  63.  83.]\n",
      " [ 78.  68.  78.  75.  69.  87.  60.  81.  64.  74.  69.  58.  85.  66.\n",
      "   82.  74.  80.  81.  69.  75.  66.  66.  61.  69.  72.  77.  80.  91.\n",
      "   74.  84.  78. 320.  82.  72.  81.  81.  87.  64.  79.  72.  66.  80.\n",
      "   83.  70.  72.  64.  81.  71.  77.  71.  67.  61.  63.  66.  62.  69.\n",
      "   70.  73.  72.  84.  77.  87.  77.  84.]\n",
      " [126.  63.  84.  67.  66.  68.  59.  69.  70.  60.  67.  52.  61.  72.\n",
      "   69.  65.  60.  59.  65.  70.  78.  69.  71.  64.  76.  80.  65.  71.\n",
      "   56.  64.  62.  52.  47.  58.  73.  72.  54.  74.  53.  60.  64.  69.\n",
      "   68.  61.  57.  64.  59.  64.  73.  61.  48.  62.  66.  58.  62.  68.\n",
      "   70.  66.  68.  66.  78.  62.  53.  66.]\n",
      " [ 71.  67.  65.  52.  68.  66.  59.  73.  70.  61.  63.  61.  74.  58.\n",
      "   66.  58.  61.  68.  66.  68.  73.  62.  70.  55.  61.  70.  66.  65.\n",
      "   78.  57.  60.  58.  71.  69.  71.  62.  73.  51.  60.  68.  65.  61.\n",
      "   62.  61.  68.  56.  58.  56.  69.  71. 113.  59.  69.  69.  54.  63.\n",
      "   76.  69.  60.  62.  52.  61.  56.  57.]]\n"
     ]
    }
   ],
   "source": [
    "#Computing XORs at IN and OUT of S-boxes for characteristic 40 08 00 00 04 00 00 00\n",
    "\n",
    "\n",
    "ciphertext = open('ciphertexts2.txt').read().split(\"\\n\")\n",
    "\n",
    "hexcipher =[]\n",
    "for c in ciphertext:\n",
    "  h=[]\n",
    "  if len(c) == 16:\n",
    "    for i in range(16):\n",
    "      h.extend(mapping[c[i]])\n",
    "    hexcipher.extend([h])\n",
    "\n",
    "##Inverse the final permutation\n",
    "\n",
    "invres = []\n",
    "for c in hexcipher:\n",
    "  temp=[]\n",
    "  for i in range(64):\n",
    "    temp.extend([c[RFP[i]-1]])\n",
    "  invres.extend([temp])\n",
    "\n",
    "\n",
    "##Xoring the ciphertext pairs according to differential\n",
    "\n",
    "resxor = []\n",
    "for i in range(0,len(invres)-1,2):\n",
    "  resxor.extend([list(np.bitwise_xor(invres[i],invres[i+1]))])\n",
    "\n",
    "\n",
    "##Expanding Right side block of Round 5\n",
    "\n",
    "expanded = []\n",
    "\n",
    "for i in invres:\n",
    "  temp = []\n",
    "  for j in range(48):\n",
    "    temp.extend([i[E[j]-1]])\n",
    "  expanded.extend([temp])\n",
    "\n",
    "##Xoring expanded to compute s box input\n",
    "\n",
    "sin = []\n",
    "for i in range(0,len(expanded)-1,2):\n",
    "  sin.extend([list(np.bitwise_xor(expanded[i],expanded[i+1]))])\n",
    "\n",
    "##Xoring L5 and R6\n",
    "\n",
    "L5 = [0,0,0,0,0,0,0,0,0,0,0,0,0,0,0,0,0,0,0,0,0,1,0,0,0,0,0,0,0,0,0,0]\n",
    "inxor = []\n",
    "for i in resxor:\n",
    "  inxor.extend([list(np.bitwise_xor(i[32:64],L5))])\n",
    "\n",
    "##Xoring sbox outputs\n",
    "\n",
    "sxor =[]\n",
    "for i in inxor:\n",
    "  temp = []\n",
    "  for j in range(32):\n",
    "    temp.extend([i[INVP[j]-1]])\n",
    "  sxor.extend([temp])\n",
    "\n",
    "##Finding the Keys  corresponding to Round 6 for above charcateristic\n",
    "\n",
    "keys = np.zeros((8,64))\n",
    "\n",
    "for i in range(len(sin)):\n",
    "  for j in range(0,8):\n",
    "    inx = int(''.join([str(s) for s in sin[i][j*6:j*6+6]]),2)\n",
    "    outx = int(''.join([str(s) for s in sxor[i][j*4:j*4+4]]),2)\n",
    "    inp = int(''.join([str(s) for s in expanded[2*i+1][j*6:j*6+6]]),2)\n",
    "\n",
    "    for k in range(0,64):\n",
    "      a = bin(k)[2:].zfill(6)\n",
    "      b = bin(k^inx)[2:].zfill(6)\n",
    "      if outx == sbox[j][int(a[0])*2 + int(a[5])][int(a[4]) + 2 *int(a[3]) + int(a[2]) * 4 + int(a[1])*8]^sbox[j][int(b[0])*2 + int(b[5])][int(b[4]) + 2 *int(b[3]) + int(b[2]) * 4 + int(b[1])*8]:\n",
    "        keys[j][k^inp]+=1\n",
    " \n",
    "print(keys)"
   ]
  },
  {
   "cell_type": "code",
   "execution_count": 7,
   "metadata": {
    "ExecuteTime": {
     "end_time": "2022-03-10T16:18:28.287092Z",
     "start_time": "2022-03-10T16:18:28.273127Z"
    },
    "colab": {
     "base_uri": "https://localhost:8080/"
    },
    "id": "nWfnWJ9edaNE",
    "outputId": "3ab3a2e4-a0ae-4dd6-e60d-811e8efba959"
   },
   "outputs": [
    {
     "name": "stdout",
     "output_type": "stream",
     "text": [
      "S-box\tMax\tMean\tKey\n",
      "S1\t170.0\t69\t45\n",
      "S2\t181.0\t69\t59\n",
      "S3\t130.0\t64\t37\n",
      "S4\t326.0\t83\t7\n",
      "S5\t176.0\t72\t6\n",
      "S6\t320.0\t77\t31\n",
      "S7\t126.0\t65\t0\n",
      "S8\t113.0\t64\t50\n"
     ]
    }
   ],
   "source": [
    "maxval = [] \n",
    "mean = [] \n",
    "keyval = [] \n",
    "for i in range(len(keys)):     \n",
    "  mean.append(int(keys[i].mean()))     \n",
    "  current = max(keys[i])     \n",
    "  maxval.append(current)     \n",
    "  keyval.append(np.where(keys[i]==current)[0][0]) \n",
    "\n",
    "print(\"S-box\"+ \"\\t\" +\"Max\" + \"\\t\" + \"Mean\" + \"\\t\" + \"Key\") \n",
    "for i in range(0,8):     \n",
    "  print(\"S\"+ str(i+1) +\"\\t\"+ str(maxval[i]) + \"\\t\" + str(mean[i]) + \"\\t\" + str(keyval[i]))"
   ]
  },
  {
   "cell_type": "code",
   "execution_count": 8,
   "metadata": {
    "ExecuteTime": {
     "end_time": "2022-03-10T16:18:28.319008Z",
     "start_time": "2022-03-10T16:18:28.293075Z"
    },
    "colab": {
     "base_uri": "https://localhost:8080/"
    },
    "id": "YfAB7ROL735d",
    "outputId": "982f630a-c4a0-40dd-9b90-11c7735b7559"
   },
   "outputs": [
    {
     "name": "stdout",
     "output_type": "stream",
     "text": [
      "X11XX1XX01011X100XX11X11100X1100100X00100010X01X0101X011\n"
     ]
    }
   ],
   "source": [
    "## Finding the Key\n",
    "\n",
    "sbkey = \"101101111011XXXXXX000111000110011111000000110010\" ##Obtained by converting key value to binary for each sbox 1 to 8 except 3 for which 'XXXXXX' is appended as input to sbox 3 is never 0\n",
    "\n",
    "key = ['X']*56\n",
    "\n",
    "for i in range(48):\n",
    "  key[PC2[i]-1] = sbkey[i]\n",
    "\n",
    "for i in range(0,6):\n",
    "  for j in range(shift_table[i]):\n",
    "    x = key[27]\n",
    "    y = key[55]\n",
    "\n",
    "    for k in range(27,0,-1):\n",
    "      key[k] = key[k-1]\n",
    "      key[k+28] = key[k+27]\n",
    "\n",
    "    key[0] = x\n",
    "    key[28] = y\n",
    "\n",
    "print(''.join(key))\n",
    "miskey = ''.join(key)"
   ]
  },
  {
   "cell_type": "markdown",
   "metadata": {
    "id": "Pr0ILhLd-nA_"
   },
   "source": [
    "Using Brute Force Method to find mising 14 bits of key"
   ]
  },
  {
   "cell_type": "code",
   "execution_count": 9,
   "metadata": {
    "ExecuteTime": {
     "end_time": "2022-03-10T16:18:28.728911Z",
     "start_time": "2022-03-10T16:18:28.323996Z"
    },
    "id": "WX0HMhoD-tm4"
   },
   "outputs": [],
   "source": [
    "\n",
    "poskey = []\n",
    "binlist = []\n",
    "for i in range(2**14):\n",
    "  x = str(bin(i)[2:])\n",
    "  binlist.append(('0')*(14-len(x))+x)\n",
    "\n",
    "for i in binlist:\n",
    "  j = 0\n",
    "  tempkey = list(miskey)\n",
    "  for k in range(len(tempkey)):\n",
    "    if tempkey[k] == 'X':\n",
    "      tempkey[k] = i[j]\n",
    "      j+=1\n",
    "  poskey.append(''.join(tempkey))\n",
    "\n",
    "\n",
    "\n",
    "def roundkey(k,rno):\n",
    "  left = k[0:28]\n",
    "  right = k[28:56]\n",
    "\n",
    "  binkey = []\n",
    "\n",
    "  for i in range(rno):\n",
    "    left = shift(left,shift_table[i])\n",
    "    right = shift(right,shift_table[i])\n",
    "\n",
    "    key = left + right\n",
    "\n",
    "    binkey.extend([permute(key,key_comp,48)])\n",
    "\n",
    "  return binkey\n",
    "\n",
    "\n",
    "def encryption(mess,key,rno):\n",
    "\n",
    "  mess = permute(mess,initial_perm,64)\n",
    "\n",
    "  left = mess[:32]\n",
    "  right = mess[32:]\n",
    "\n",
    "  for i in range(rno):\n",
    "   ## print(i)\n",
    "    ##if(i==4):\n",
    "      ##print(right,left)\n",
    "    expmess = permute(right,E,48)\n",
    "   ## print(int(expmess,2),int(key[i],2))\n",
    "    inxor = str(bin(np.bitwise_xor(int(expmess,2),int(key[i],2)))[2:])\n",
    "    if(len(inxor)!=48):\n",
    "      inxor= ('0'*(48-len(inxor)))+inxor\n",
    "    ##print(inxor,len(inxor))\n",
    "    ##Computing Sbox output for inxor\n",
    "    sout = ''\n",
    "    for j in range(8):\n",
    "      temp = (bin(sbox[j][int(inxor[j*6]+inxor[j*6+5],2)][int(inxor[j*6+1:j*6+5],2)])[2:])\n",
    "      sout+= ('0'*(4-len(temp))+temp)\n",
    "    sout = permute(sout,sboxper,32)\n",
    "\n",
    "    roundxor = str(bin(np.bitwise_xor(int(left,2),int(sout,2)))[2:])\n",
    "    # if(i==3):\n",
    "    #   print(roundxor,len(roundxor))\n",
    "    if(len(roundxor)!=32):\n",
    "      roundxor= ('0'*(32-len(roundxor)))+roundxor\n",
    "    left = roundxor\n",
    "\n",
    "    if(i!=5):\n",
    "      t = left\n",
    "      left = right\n",
    "      right = t\n",
    "\n",
    "    \n",
    "  outmess = left + right\n",
    "  cipher = permute(outmess,final_perm,64)\n",
    "\n",
    "  return cipher\n"
   ]
  },
  {
   "cell_type": "code",
   "execution_count": 10,
   "metadata": {
    "ExecuteTime": {
     "end_time": "2022-03-10T16:18:30.284350Z",
     "start_time": "2022-03-10T16:18:28.730904Z"
    },
    "colab": {
     "base_uri": "https://localhost:8080/"
    },
    "id": "6rpKAIciHowg",
    "outputId": "bc22ac09-a26c-4972-f7d3-8e5bb9da407c"
   },
   "outputs": [
    {
     "name": "stdout",
     "output_type": "stream",
     "text": [
      "The key is 01101110010111100111101110001100100100100010001101010011 \n",
      "\n",
      "Round 0 key is 111111000100111100000111000011001000010100110011\n",
      "Round 1 key is 011011110011111101100010101101000101000111101000\n",
      "Round 2 key is 111010101111010011101101010000001001101001100011\n",
      "Round 3 key is 110110011100011101011010110101101010110000111000\n",
      "Round 4 key is 011001001101101110111011001010010001111101011000\n",
      "Round 5 key is 101101111011100101000111000110011111000000110010\n"
     ]
    }
   ],
   "source": [
    "mainkey = ''\n",
    "binplain = ''\n",
    "for i in 'defghijklmnopqrs':\n",
    "  binplain+= f2u_mapping[i]\n",
    "\n",
    "bincipher = ''\n",
    "for i in \"qpnonsgrprdllqml\":\n",
    "  bincipher+=f2u_mapping[i]\n",
    "\n",
    "for k in poskey:\n",
    "  key = roundkey(k,6)\n",
    "  if(encryption(binplain,key,6)== bincipher):\n",
    "    mainkey = k\n",
    "    print('The key is',k,'\\n')\n",
    "    for i in range(6):\n",
    "      print('Round',i,'key is',key[i])\n",
    "    \n",
    "    break\n"
   ]
  },
  {
   "cell_type": "code",
   "execution_count": 11,
   "metadata": {
    "ExecuteTime": {
     "end_time": "2022-03-10T16:18:30.300308Z",
     "start_time": "2022-03-10T16:18:30.286344Z"
    },
    "colab": {
     "base_uri": "https://localhost:8080/"
    },
    "id": "CzR_LLWrSshU",
    "outputId": "02f6aaf4-3c82-422c-f2a2-561075d038a7"
   },
   "outputs": [
    {
     "name": "stdout",
     "output_type": "stream",
     "text": [
      "0,1,1,0,1,1,1,0,0,1,0,1,1,1,1,0,0,1,1,1,1,0,1,1,1,0,0,0,1,1,0,0,1,0,0,1,0,0,1,0,0,0,1,0,0,0,1,1,0,1,0,1,0,0,1,1,"
     ]
    }
   ],
   "source": [
    "## seperate key into comma seperated\n",
    "\n",
    "for i in mainkey:\n",
    "    print(i+',',end='')"
   ]
  },
  {
   "cell_type": "code",
   "execution_count": 12,
   "metadata": {
    "ExecuteTime": {
     "end_time": "2022-03-10T16:18:30.331237Z",
     "start_time": "2022-03-10T16:18:30.304297Z"
    },
    "colab": {
     "base_uri": "https://localhost:8080/"
    },
    "id": "wRFh635gTDg1",
    "outputId": "2cabc281-e4cd-4d6c-eae9-f43efa529ba0"
   },
   "outputs": [
    {
     "name": "stdout",
     "output_type": "stream",
     "text": [
      "le 129\n",
      "oh 180\n",
      "im 89\n",
      "kj 118\n",
      "ks 127\n",
      "ho 75\n",
      "oe 177\n",
      "rd 224\n",
      "qq 221\n",
      "ng 163\n",
      "sg 243\n",
      "mn 154\n",
      "jj 102\n",
      "mj 150\n",
      "pf 194\n",
      "dm 9\n"
     ]
    }
   ],
   "source": [
    "## Convert main cipher text to decimal values\n",
    "\n",
    "password = 'leohimkjkshooerdqqngsgmnjjmjpfdm'\n",
    "\n",
    "for i in range(0,len(password),2):\n",
    "    a = f2u_mapping[password[i]]+f2u_mapping[password[i+1]]\n",
    "    b = int(a,2)\n",
    "    print(password[i:i+2],b)"
   ]
  }
 ],
 "metadata": {
  "colab": {
   "collapsed_sections": [],
   "name": "Untitled1.ipynb",
   "provenance": []
  },
  "kernelspec": {
   "display_name": "Python 3",
   "language": "python",
   "name": "python3"
  },
  "language_info": {
   "codemirror_mode": {
    "name": "ipython",
    "version": 3
   },
   "file_extension": ".py",
   "mimetype": "text/x-python",
   "name": "python",
   "nbconvert_exporter": "python",
   "pygments_lexer": "ipython3",
   "version": "3.8.8"
  },
  "varInspector": {
   "cols": {
    "lenName": 16,
    "lenType": 16,
    "lenVar": 40
   },
   "kernels_config": {
    "python": {
     "delete_cmd_postfix": "",
     "delete_cmd_prefix": "del ",
     "library": "var_list.py",
     "varRefreshCmd": "print(var_dic_list())"
    },
    "r": {
     "delete_cmd_postfix": ") ",
     "delete_cmd_prefix": "rm(",
     "library": "var_list.r",
     "varRefreshCmd": "cat(var_dic_list()) "
    }
   },
   "types_to_exclude": [
    "module",
    "function",
    "builtin_function_or_method",
    "instance",
    "_Feature"
   ],
   "window_display": false
  }
 },
 "nbformat": 4,
 "nbformat_minor": 1
}

{
 "cells": [
  {
   "cell_type": "code",
   "execution_count": 2,
   "metadata": {
    "id": "ucrvgd6a3PPC"
   },
   "outputs": [],
   "source": [
    "num_list = [1,23,5 ,47, 55, 19, 32, 115, 112, 56, 75, 72, 67, 74, 92, 39, 37, 22, 69, 107, 91, 89, 59, 66, 11, 41, 48, 28, 30, 33, 29, 3, 66]"
   ]
  },
  {
   "cell_type": "code",
   "execution_count": 3,
   "metadata": {
    "id": "zL_bUjKEB_v-"
   },
   "outputs": [],
   "source": [
    "from itertools import combinations_with_replacement"
   ]
  },
  {
   "cell_type": "code",
   "execution_count": 4,
   "metadata": {
    "id": "iLAgke70MZp9"
   },
   "outputs": [],
   "source": [
    "possibilities = [0,1,2,3,4,5,6,7,8,9,10,11,12,13,14,15]"
   ]
  },
  {
   "cell_type": "code",
   "execution_count": 23,
   "metadata": {
    "id": "hdvpm1_TNPyF"
   },
   "outputs": [],
   "source": [
    "all_pos = combinations_with_replacement(possibilities,23)"
   ]
  },
  {
   "cell_type": "code",
   "execution_count": 8,
   "metadata": {
    "colab": {
     "base_uri": "https://localhost:8080/"
    },
    "id": "-FLW2ePwNtMT",
    "outputId": "4acb5ce3-29b9-4fc2-f4bc-7f00fdeb0a9c"
   },
   "outputs": [
    {
     "name": "stdout",
     "output_type": "stream",
     "text": [
      "(0, 0)\n",
      "(0, 1)\n",
      "(0, 2)\n",
      "(0, 3)\n",
      "(0, 4)\n",
      "(0, 5)\n",
      "(0, 6)\n",
      "(0, 7)\n",
      "(0, 8)\n",
      "(0, 9)\n",
      "(0, 10)\n",
      "(0, 11)\n",
      "(0, 12)\n",
      "(0, 13)\n",
      "(0, 14)\n",
      "(0, 15)\n",
      "(1, 1)\n",
      "(1, 2)\n",
      "(1, 3)\n",
      "(1, 4)\n",
      "(1, 5)\n"
     ]
    }
   ],
   "source": [
    "# for idx,i in enumerate(all_pos):\n",
    "#   print(i)\n",
    "#   if(idx == 20):\n",
    "#     break"
   ]
  },
  {
   "cell_type": "code",
   "execution_count": 11,
   "metadata": {
    "colab": {
     "base_uri": "https://localhost:8080/"
    },
    "id": "ofo7YUsoOGr-",
    "outputId": "13e9ee37-1170-4306-8d1f-ec12f3aad42e"
   },
   "outputs": [
    {
     "name": "stdout",
     "output_type": "stream",
     "text": [
      "<class 'tuple'>\n",
      "<class 'tuple'>\n",
      "<class 'tuple'>\n"
     ]
    }
   ],
   "source": [
    "# for idx,i in enumerate(all_pos):\n",
    "#   print(type(i))\n",
    "#   if(idx == 2):\n",
    "#     break"
   ]
  },
  {
   "cell_type": "code",
   "execution_count": 24,
   "metadata": {
    "id": "JWXr_MPmPTN6"
   },
   "outputs": [],
   "source": [
    "def f2(num):\n",
    "  return (num**2)%127\n",
    "def f3(num):\n",
    "  return (num**3)%127\n",
    "def f4(num):\n",
    "  return (num**4)%127\n",
    "def f5(num):\n",
    "  return (num**5)%127\n",
    "def f6(num):\n",
    "  return (num**6)%127\n",
    "def f7(num):\n",
    "  return (num**7)%127\n",
    "def f8(num):\n",
    "  return (num**8)%127"
   ]
  },
  {
   "cell_type": "code",
   "execution_count": null,
   "metadata": {
    "id": "fM9UzAEgOMv7"
   },
   "outputs": [],
   "source": [
    "for i in all_pos:\n",
    "  if( (sum(map(f2,i))%127 == num_list[2]) and (sum(map(f3,i))%127 == num_list[3]) and (sum(map(f5,i))%127 == num_list[5]) and (sum(map(f5,i))%127 == num_list[5]) and (sum(map(f6,i))%127 == num_list[6]) and (sum(map(f7,i))%127 == num_list[7]) and (sum(map(f8,i))%127 == num_list[8]) ):\n",
    "    print(i)"
   ]
  },
  {
   "cell_type": "code",
   "execution_count": 20,
   "metadata": {
    "colab": {
     "base_uri": "https://localhost:8080/"
    },
    "id": "qEvB_gAwQrcg",
    "outputId": "97d591a0-b00b-461b-c9f2-06a05a8d8ae8"
   },
   "outputs": [
    {
     "data": {
      "text/plain": [
       "1"
      ]
     },
     "execution_count": 20,
     "metadata": {},
     "output_type": "execute_result"
    }
   ],
   "source": [
    "# f7(2)"
   ]
  },
  {
   "cell_type": "code",
   "execution_count": null,
   "metadata": {
    "id": "inxD11u3Q6_m"
   },
   "outputs": [],
   "source": []
  }
 ],
 "metadata": {
  "accelerator": "GPU",
  "colab": {
   "name": "cryptoassign7.ipynb",
   "provenance": []
  },
  "kernelspec": {
   "display_name": "Python 3",
   "language": "python",
   "name": "python3"
  },
  "language_info": {
   "codemirror_mode": {
    "name": "ipython",
    "version": 3
   },
   "file_extension": ".py",
   "mimetype": "text/x-python",
   "name": "python",
   "nbconvert_exporter": "python",
   "pygments_lexer": "ipython3",
   "version": "3.8.8"
  },
  "varInspector": {
   "cols": {
    "lenName": 16,
    "lenType": 16,
    "lenVar": 40
   },
   "kernels_config": {
    "python": {
     "delete_cmd_postfix": "",
     "delete_cmd_prefix": "del ",
     "library": "var_list.py",
     "varRefreshCmd": "print(var_dic_list())"
    },
    "r": {
     "delete_cmd_postfix": ") ",
     "delete_cmd_prefix": "rm(",
     "library": "var_list.r",
     "varRefreshCmd": "cat(var_dic_list()) "
    }
   },
   "types_to_exclude": [
    "module",
    "function",
    "builtin_function_or_method",
    "instance",
    "_Feature"
   ],
   "window_display": false
  }
 },
 "nbformat": 4,
 "nbformat_minor": 1
}

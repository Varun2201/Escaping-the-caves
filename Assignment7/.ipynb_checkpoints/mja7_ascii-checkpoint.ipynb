{
 "cells": [
  {
   "cell_type": "code",
   "execution_count": 1,
   "metadata": {},
   "outputs": [],
   "source": [
    "# lookup = []\n",
    "# # _, _, _, _, _, _, _,\n",
    "# for i1 in range(1,16):\n",
    "#     for i2 in range(i1, 16):\n",
    "#         for i3 in range(i2, 16):\n",
    "#             for i4 in range(i3, 16):\n",
    "#                 for i5 in range(i4, 16):\n",
    "#                     for i6 in range(i5, 16):\n",
    "#                         for i7 in range(i6, 16):\n",
    "#                             for i8 in range(i7, 16):\n",
    "#                                 for i9 in range(i8, 16):\n",
    "#                                     for i10 in range(i9, 16):\n",
    "#                                         for i11 in range(i10, 16):\n",
    "#                                             for i12 in range(i11, 16):\n",
    "#                                                 for i13 in range(i12, 16):\n",
    "#                                                     for i14 in range(i13, 16):\n",
    "#                                                         for i15 in range(i14, 16):\n",
    "#                                                             for i16 in range(i15, 16):\n",
    "#                                                                 for i17 in range(i16, 16):\n",
    "#                                                                     for i18 in range(i17, 16):\n",
    "#                                                                         for i19 in range(i18, 16):\n",
    "#                                                                             for i20 in range(i19, 16):\n",
    "#                                                                                 for i21 in range(i20, 16):\n",
    "#                                                                                     for i22 in range(i21, 16):\n",
    "#                                                                                         for i23 in range(i22, 16):\n",
    "#                                                                                             for i24 in range(i23, 16):\n",
    "#                                                                                                 if (i1 + i2 + i3+ i4+ i5+ i6+ i7 + i8+ i9 +i10+i11+i12+i13+i14+i15+i16 + i17 + i18+i19+i20+i21+i22+i23+i24)% 127 == 109:\n",
    "#                                                                                                     lookup.append(\n",
    "#                                                                                                         (i1 , i2 , i3, i4, i5, i6, i7 , i8, i9 ,i10,i11,i12,i13,i14,i15,i16 , i17 , i18,i19,i20,i21,i22,i23,i24)\n",
    "#                                                                                                     )\n",
    "\n",
    "                "
   ]
  },
  {
   "cell_type": "code",
   "execution_count": 2,
   "metadata": {},
   "outputs": [
    {
     "data": {
      "text/plain": [
       "102"
      ]
     },
     "execution_count": 2,
     "metadata": {},
     "output_type": "execute_result"
    }
   ],
   "source": [
    "ord(\"f\")"
   ]
  },
  {
   "cell_type": "code",
   "execution_count": 3,
   "metadata": {},
   "outputs": [],
   "source": [
    "from itertools import combinations_with_replacement\n",
    "\n",
    "letters= [ord(\"f\"), ord(\"g\"), ord(\"h\"), ord(\"i\"), ord(\"j\"), ord(\"k\"), ord(\"l\"), ord(\"m\"), ord(\"n\"), ord(\"o\"), ord(\"p\"), ord(\"q\"), ord(\"r\"), ord(\"s\"), ord(\"t\"), ord(\"u\"),]\n",
    "\n",
    "#letters = [0,1,2,3,4,5,6,7,8,9,10,11,12,13,14,15]  # MANJYOT\n",
    "#letters = [4,5,6,7,8,9,10,11,12,13,14,15] #JEET\n",
    "#letters = [8,9,10,11,12,13,14,15] #SHARANYA\n",
    "\n",
    "a = combinations_with_replacement (letters, 24)"
   ]
  },
  {
   "cell_type": "code",
   "execution_count": 5,
   "metadata": {},
   "outputs": [
    {
     "data": {
      "text/plain": [
       "[102,\n",
       " 103,\n",
       " 104,\n",
       " 105,\n",
       " 106,\n",
       " 107,\n",
       " 108,\n",
       " 109,\n",
       " 110,\n",
       " 111,\n",
       " 112,\n",
       " 113,\n",
       " 114,\n",
       " 115,\n",
       " 116,\n",
       " 117]"
      ]
     },
     "execution_count": 5,
     "metadata": {},
     "output_type": "execute_result"
    }
   ],
   "source": [
    "letters"
   ]
  },
  {
   "cell_type": "code",
   "execution_count": 6,
   "metadata": {},
   "outputs": [
    {
     "name": "stdout",
     "output_type": "stream",
     "text": [
      "(102, 102, 102, 102, 102, 102, 102, 102, 102, 102, 102, 102, 102, 102, 102, 102, 102, 102, 102, 102, 102, 102, 102, 113)\n",
      "(102, 102, 102, 102, 102, 102, 102, 102, 102, 102, 102, 102, 102, 102, 102, 102, 102, 102, 102, 102, 102, 102, 102, 114)\n",
      "(102, 102, 102, 102, 102, 102, 102, 102, 102, 102, 102, 102, 102, 102, 102, 102, 102, 102, 102, 102, 102, 102, 102, 115)\n",
      "(102, 102, 102, 102, 102, 102, 102, 102, 102, 102, 102, 102, 102, 102, 102, 102, 102, 102, 102, 102, 102, 102, 102, 116)\n",
      "(102, 102, 102, 102, 102, 102, 102, 102, 102, 102, 102, 102, 102, 102, 102, 102, 102, 102, 102, 102, 102, 102, 102, 117)\n",
      "(102, 102, 102, 102, 102, 102, 102, 102, 102, 102, 102, 102, 102, 102, 102, 102, 102, 102, 102, 102, 102, 102, 103, 103)\n",
      "(102, 102, 102, 102, 102, 102, 102, 102, 102, 102, 102, 102, 102, 102, 102, 102, 102, 102, 102, 102, 102, 102, 103, 104)\n",
      "(102, 102, 102, 102, 102, 102, 102, 102, 102, 102, 102, 102, 102, 102, 102, 102, 102, 102, 102, 102, 102, 102, 103, 105)\n",
      "(102, 102, 102, 102, 102, 102, 102, 102, 102, 102, 102, 102, 102, 102, 102, 102, 102, 102, 102, 102, 102, 102, 103, 106)\n",
      "(102, 102, 102, 102, 102, 102, 102, 102, 102, 102, 102, 102, 102, 102, 102, 102, 102, 102, 102, 102, 102, 102, 103, 107)\n",
      "(102, 102, 102, 102, 102, 102, 102, 102, 102, 102, 102, 102, 102, 102, 102, 102, 102, 102, 102, 102, 102, 102, 103, 108)\n"
     ]
    }
   ],
   "source": [
    "for idx, val in enumerate(a):\n",
    "    print(val)\n",
    "    if idx == 10:\n",
    "        break\n",
    "    "
   ]
  },
  {
   "cell_type": "code",
   "execution_count": 7,
   "metadata": {},
   "outputs": [],
   "source": [
    "def f2(x):\n",
    "    return pow(x, 2, 127)\n",
    "def f3(x):\n",
    "    return pow(x, 3, 127)\n",
    "def f4(x):\n",
    "    return pow(x, 4, 127)\n",
    "def f5(x):\n",
    "    return pow(x, 5, 127)\n",
    "def f6(x):\n",
    "    return pow(x, 6, 127)\n",
    "def f7(x):\n",
    "    return pow(x, 7, 127)\n",
    "def f8(x):\n",
    "    return pow(x, 8, 127)\n",
    "def f9(x):\n",
    "    return pow(x, 9, 127)\n",
    "def f10(x):\n",
    "    return pow(x, 10, 127)\n",
    "def f11(x):\n",
    "    return pow(x, 11, 127)\n",
    "def f12(x):\n",
    "    return pow(x, 12, 127)\n"
   ]
  },
  {
   "cell_type": "code",
   "execution_count": 15,
   "metadata": {},
   "outputs": [],
   "source": [
    "lookup = [print(i) for i in a if (sum(i)%127 == 109) and (sum(map(f2, i))%127==76) and (sum(map(f3,i))%127==35) and (sum(map(f4,i))%127==22) and  (sum(map(f5,i))%127==94) and (sum(map(f6,i))%127==83) and (sum(map(f7,i))%127==25) and (sum(map(f8,i))%127==106) and (sum(map(f9,i))%127==104) and (sum(map(f10,i))%127==73) and (sum(map(f11,i))%127==87) and (sum(map(f12,i))%127==56)]"
   ]
  },
  {
   "cell_type": "code",
   "execution_count": 16,
   "metadata": {},
   "outputs": [
    {
     "data": {
      "text/plain": [
       "[]"
      ]
     },
     "execution_count": 16,
     "metadata": {},
     "output_type": "execute_result"
    }
   ],
   "source": [
    "lookup"
   ]
  }
 ],
 "metadata": {
  "interpreter": {
   "hash": "6c15b6fbfedcdf0784f9088ccebaf160a9e33f62bfcab5d0151de8aafe12dd7b"
  },
  "kernelspec": {
   "display_name": "Python 3",
   "language": "python",
   "name": "python3"
  },
  "language_info": {
   "codemirror_mode": {
    "name": "ipython",
    "version": 3
   },
   "file_extension": ".py",
   "mimetype": "text/x-python",
   "name": "python",
   "nbconvert_exporter": "python",
   "pygments_lexer": "ipython3",
   "version": "3.8.8"
  },
  "varInspector": {
   "cols": {
    "lenName": 16,
    "lenType": 16,
    "lenVar": 40
   },
   "kernels_config": {
    "python": {
     "delete_cmd_postfix": "",
     "delete_cmd_prefix": "del ",
     "library": "var_list.py",
     "varRefreshCmd": "print(var_dic_list())"
    },
    "r": {
     "delete_cmd_postfix": ") ",
     "delete_cmd_prefix": "rm(",
     "library": "var_list.r",
     "varRefreshCmd": "cat(var_dic_list()) "
    }
   },
   "types_to_exclude": [
    "module",
    "function",
    "builtin_function_or_method",
    "instance",
    "_Feature"
   ],
   "window_display": false
  }
 },
 "nbformat": 4,
 "nbformat_minor": 2
}

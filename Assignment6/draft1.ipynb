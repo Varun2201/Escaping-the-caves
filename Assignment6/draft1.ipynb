{
 "cells": [
  {
   "cell_type": "code",
   "execution_count": 9,
   "metadata": {
    "collapsed": false
   },
   "outputs": [
    {
     "name": "stdout",
     "output_type": "stream",
     "text": [
      "The correct root is : 1000011001110000101100101010000001101110110111101001100011011110011011001011001\n",
      "79\n",
      "Password is C8YP7oLo6Y\n"
     ]
    }
   ],
   "source": [
    "N=84364443735725034864402554533826279174703893439763343343863260342756678609216895093779263028809246505955647572176682669445270008816481771701417554768871285020442403001649254405058303439906229201909599348669565697534331652019516409514800265887388539283381053937433496994442146419682027649079704982600857517093\n",
    "\n",
    "C=17682209225809987046236362123205092817571021518027707375108020700729482152654000137158934080739905216856837090607144440344031927906581569868080227308437728529982122166164583798842879622125932314538073945937211188090137025280486461868383287642100592253980842953009393121691419057911851803717308465337876292661\n",
    "\n",
    "e=5\n",
    "\n",
    "msg = \"Lazarus: This door has RSA encryption with exponent 5 and the password is \"\n",
    "\n",
    "R = Zmod(N)\n",
    "maxpasslen = 200\n",
    "\n",
    "msgbin = ''\n",
    "for i in msg:\n",
    "    t = str(bin(ord(i))[2:])\n",
    "    msgbin += ('0'*(8-len(t)) + t)\n",
    "\n",
    "\n",
    "beta = 1\n",
    "eps = beta / 7\n",
    "\n",
    "for l in range(0, maxpasslen+1, 4):\n",
    "    \n",
    "    P.<M> = PolynomialRing(R)\n",
    "    polynomial = ((int(msgbin, 2)<<l) + M)^e - C\n",
    "    m = ceil(1**2 / (polynomial.degree() * (1/7)))\n",
    "    X = ceil(N**((1**2/polynomial.degree()) - (1/7)))\n",
    "    \n",
    "    polynomial = polynomial.change_ring(ZZ)\n",
    "\n",
    "    x = polynomial.change_ring(ZZ).parent().gen()\n",
    "    degree = polynomial.degree()\n",
    "\n",
    "    lis = [] # Polynomials\n",
    "    for i in range(m):\n",
    "        for j in range(degree):\n",
    "            lis+=[(x * X)**j * N**(m - i) * polynomial(x * X)**i]\n",
    "\n",
    "\n",
    "    y = degree * m \n",
    "    lattice_B = Matrix(ZZ, y) # Lattice B\n",
    "\n",
    "    for i in range(y):\n",
    "        lattice_B[i] = list(lis[i])[0:i+1]+ [0]*(y-i-1)\n",
    "\n",
    "    lattice_B = lattice_B.LLL() # LLL\n",
    "\n",
    "    polynomial = 0\n",
    "    for i in range(y):\n",
    "        polynomial += x**i * lattice_B[0, i] / X**i # shortest vector\n",
    "\n",
    "    possible_roots = polynomial.roots() # Stores the possible roots\n",
    "    \n",
    "    roots = [] # true roots\n",
    "    for root in possible_roots:\n",
    "        if root[0].is_integer():\n",
    "            result = polynomial(ZZ(root[0]))\n",
    "            if gcd(N, result) >= N^beta:\n",
    "                roots+=[ZZ(root[0])]\n",
    "    if roots:\n",
    "        print(\"The correct root is :\", bin(roots[0])[2:])\n",
    "        break\n",
    "\n",
    "\n",
    "r = bin(roots[0])[2:]\n",
    "\n",
    "print(len(r))\n",
    "        \n",
    "r = '0'+r\n",
    "\n",
    "\n",
    "\n",
    "\n",
    "password = ''\n",
    "for i in range(0,len(r)-7,8):\n",
    "    \n",
    "    password+=str(chr(int(r[i:i+8],2)))\n",
    "\n",
    "print('Password is',password)"
   ]
  }
 ],
 "metadata": {
  "kernelspec": {
   "display_name": "SageMath 9.5",
   "language": "sagemath",
   "metadata": {
    "cocalc": {
     "description": "Open-source mathematical software system",
     "priority": 10,
     "url": "https://www.sagemath.org/"
    }
   },
   "name": "sage-9.5",
   "resource_dir": "/ext/jupyter/kernels/sage-9.5"
  },
  "language_info": {
   "codemirror_mode": {
    "name": "ipython",
    "version": 3
   },
   "file_extension": ".py",
   "mimetype": "text/x-python",
   "name": "python",
   "nbconvert_exporter": "python",
   "pygments_lexer": "ipython3",
   "version": "3.9.9"
  }
 },
 "nbformat": 4,
 "nbformat_minor": 4
}
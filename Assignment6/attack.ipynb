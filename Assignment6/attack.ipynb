{
 "cells": [
  {
   "cell_type": "code",
   "execution_count": 0,
   "metadata": {
    "collapsed": false
   },
   "outputs": [
   ],
   "source": [
    "N=84364443735725034864402554533826279174703893439763343343863260342756678609216895093779263028809246505955647572176682669445270008816481771701417554768871285020442403001649254405058303439906229201909599348669565697534331652019516409514800265887388539283381053937433496994442146419682027649079704982600857517093\n",
    "\n",
    "C=17682209225809987046236362123205092817571021518027707375108020700729482152654000137158934080739905216856837090607144440344031927906581569868080227308437728529982122166164583798842879622125932314538073945937211188090137025280486461868383287642100592253980842953009393121691419057911851803717308465337876292661\n",
    "\n",
    "e=5\n",
    "\n",
    "msg = \"Lazarus: This door has RSA encryption with exponent 5 and the password is \"\n",
    "\n",
    "Zn = Zmod(N)\n",
    "maxpasslen = 200\n",
    "\n",
    "msgbin = ''\n",
    "for i in msg:\n",
    "    t = str(bin(ord(i))[2:])\n",
    "    msgbin += ('0'*(8-len(t)) + t)\n",
    "\n",
    "msgint = int(msgbin,2)\n",
    "\n",
    "for l in range(0, maxpasslen+1, 4):\n",
    "    \n",
    "    P.<M> = PolynomialRing(Zn)\n",
    "    pol = ((msgint<<l) + M)^e - C\n",
    "    d = pol.degree()\n",
    "    m = ceil((d * (1/7))**-1)\n",
    "    ## With our choice of beta parameter t is eliminated as it is always 0\n",
    "    X = ceil(N**((1/d) - (1/7)))\n",
    "    \n",
    "    polz = pol.change_ring(ZZ)\n",
    "    x = polz.parent().gen()\n",
    "  \n",
    "\n",
    "    pols = [] # Polynomials\n",
    "    for i in range(m):\n",
    "        for j in range(d):\n",
    "            pols+=[pow((x * X),j) * pow(N,(m - i)) * pow(polz(x * X),i)]\n",
    "\n",
    "\n",
    "    n = d * m \n",
    "    B = Matrix(ZZ, n) # Lattice B\n",
    "\n",
    "    for i in range(n):\n",
    "        B[i] = list(pols[i])[0:i+1]+ [0]*(n-i-1)\n",
    "\n",
    "    B = B.LLL() # LLL\n",
    "\n",
    "    new_pol = 0\n",
    "    for i in range(n):\n",
    "        new_pol = new_pol + pow(x,i) * B[0, i] / pow(X,i) # shortest vector\n",
    "\n",
    "    posroots = new_pol.roots() # Stores the possible roots\n",
    "    \n",
    "    roots = [] # true roots\n",
    "    for root in posroots:\n",
    "        root = root[0]\n",
    "        if root == round(root,0):\n",
    "            result = polz(ZZ(root))\n",
    "            if gcd(N, result) == N:\n",
    "                roots=ZZ(root)\n",
    "    if roots:\n",
    "        r = bin(roots)[2:]\n",
    "        print(\"The correct root is :\", r)\n",
    "        \n",
    "\n",
    "        print(len(r))\n",
    "       \n",
    "        r = '0'*(l-len(r))+r\n",
    "        print('Correct root with length divisible by 8 is :',r)\n",
    "        password = ''\n",
    "        for i in range(0,len(r)-7,8):\n",
    "    \n",
    "            password+=str(chr(int(r[i:i+8],2)))\n",
    "\n",
    "        print('Password is',password)\n",
    "        break\n",
    "\n",
    "\n"
   ]
  },
  {
   "cell_type": "code",
   "execution_count": 0,
   "metadata": {
    "collapsed": false
   },
   "outputs": [
   ],
   "source": [
    "    "
   ]
  },
  {
   "cell_type": "code",
   "execution_count": 0,
   "metadata": {
    "collapsed": false
   },
   "outputs": [
   ],
   "source": [
   ]
  }
 ],
 "metadata": {
  "kernelspec": {
   "display_name": "SageMath 9.5",
   "language": "sagemath",
   "metadata": {
    "cocalc": {
     "description": "Open-source mathematical software system",
     "priority": 10,
     "url": "https://www.sagemath.org/"
    }
   },
   "name": "sage-9.5",
   "resource_dir": "/ext/jupyter/kernels/sage-9.5"
  },
  "language_info": {
   "codemirror_mode": {
    "name": "ipython",
    "version": 3
   },
   "file_extension": ".py",
   "mimetype": "text/x-python",
   "name": "python",
   "nbconvert_exporter": "python",
   "pygments_lexer": "ipython3",
   "version": "3.9.9"
  }
 },
 "nbformat": 4,
 "nbformat_minor": 4
}
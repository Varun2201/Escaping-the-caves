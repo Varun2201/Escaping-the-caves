{
 "cells": [
  {
   "cell_type": "code",
   "execution_count": 1,
   "id": "87076cc2",
   "metadata": {
    "ExecuteTime": {
     "end_time": "2022-03-30T17:03:45.482352Z",
     "start_time": "2022-03-30T17:03:45.141029Z"
    }
   },
   "outputs": [],
   "source": [
    "import numpy as np\n",
    "from pyfinite import ffield\n",
    "\n",
    "\n",
    "F = ffield.FField(7, gen=0x83, useLUT=-1)\n",
    "\n",
    "def Exponentiate(base,power):\n",
    "    ans = base\n",
    "    for i in range(1,power):\n",
    "        ans = F.Multiply(ans,base)\n",
    "    return ans\n",
    "\n",
    "\n",
    "def LinearTransform(linmat,msg):\n",
    "    ans = [0]*8\n",
    "    for i in range(8):\n",
    "        temp  = []\n",
    "        mul = [F.Multiply(linmat[i][j],msg[i]) for j in range(8)]\n",
    "        for k in range(8):\n",
    "            temp.append(np.bitwise_xor(ans[k],mul[k]))\n",
    "        ans = temp\n",
    "    return ans"
   ]
  },
  {
   "cell_type": "code",
   "execution_count": 2,
   "id": "0b3ca134",
   "metadata": {
    "ExecuteTime": {
     "end_time": "2022-03-30T17:03:45.497313Z",
     "start_time": "2022-03-30T17:03:45.486340Z"
    }
   },
   "outputs": [],
   "source": [
    "def decode_block(cipher):\n",
    "  plain= \"\"\n",
    "  for i in range(0,len(cipher),2):\n",
    "      plain+=chr(16*(ord(cipher[i:i+2][0]) - ord('f')) + ord(cipher[i:i+2][1]) - ord('f'))\n",
    "  return plain"
   ]
  },
  {
   "cell_type": "code",
   "execution_count": 3,
   "id": "3515a340",
   "metadata": {
    "ExecuteTime": {
     "end_time": "2022-03-30T17:04:17.925418Z",
     "start_time": "2022-03-30T17:03:45.510278Z"
    },
    "scrolled": true
   },
   "outputs": [
    {
     "name": "stdout",
     "output_type": "stream",
     "text": [
      "Possible diagonal values: \n",
      "[[[84, 40, 49], [], [], [], [], [], [], []], [[], [122, 62, 70], [], [], [], [], [], []], [[], [], [119, 43, 5], [], [], [], [], []], [[], [], [], [68, 95, 12], [], [], [], []], [[], [], [], [], [47, 112, 96], [], [], []], [[], [], [], [], [], [38, 11, 58], [], []], [[], [], [], [], [], [], [27, 14], []], [[], [], [], [], [], [], [], [38, 92, 91]]]\n",
      "Possible exponents: \n",
      "[[22, 37, 68], [26, 113, 115], [2, 38, 87], [17, 41, 69], [65, 92, 97], [29, 43, 55], [20, 108], [26, 113, 115]]\n",
      "===========================\n",
      "[[[84], [112], [], [], [], [], [], []], [[], [70], [30], [], [], [], [], []], [[], [], [43], [3], [], [], [], []], [[], [], [], [12], [104], [], [], []], [[], [], [], [], [112], [99], [], []], [[], [], [], [], [], [11], [88], []], [[], [], [], [], [], [], [27], [30]], [[], [], [], [], [], [], [], [38]]]\n",
      "[[22], [115], [38], [69], [92], [43], [20], [26]]\n"
     ]
    }
   ],
   "source": [
    "#for diagonal elements\n",
    "PossibleExponents = [[] for i in range(8)]   \n",
    "possibleDiagonalVals=[[[] for i in range(8)] for j in range(8)]\n",
    "input_file = open('plaintexts.txt','r')\n",
    "output_file = open('ciphertexts.txt','r')\n",
    "input = (input_file.readlines()[0]).strip().split(' ')\n",
    "output = output_file.readlines()\n",
    "\n",
    "input_string = []\n",
    "for msg in input:\n",
    "    input_string.append(decode_block(msg)[0])\n",
    "#print(input_string)\n",
    "#print(len(output))\n",
    "output_string = []\n",
    "for i in range(len(output)):\n",
    "    x = []\n",
    "    for msg in output[i].strip().split(' '):\n",
    "        x.append(decode_block(msg)[i])\n",
    "    output_string.append(x)\n",
    "#print(output_string)\n",
    "for k in range(8):\n",
    "    for i in range(1, 127):\n",
    "        for j in range(1, 128):\n",
    "          flag = True\n",
    "          for m in range(128):\n",
    "            if(ord(output_string[k][m]) != Exponentiate(F.Multiply(Exponentiate(F.Multiply(Exponentiate(ord(input_string[m]), i), j), i), j), i)):\n",
    "              flag = False\n",
    "              break\n",
    "          if(flag):\n",
    "            PossibleExponents[k].append(i)\n",
    "            possibleDiagonalVals[k][k].append(j)\n",
    "print(\"Possible diagonal values: \")\n",
    "print(possibleDiagonalVals)\n",
    "print(\"Possible exponents: \")\n",
    "print(PossibleExponents)\n",
    "\n",
    "\n",
    "output_string = []\n",
    "for i in range(len(output)-1):\n",
    "    x = []\n",
    "    for msg in output[i].strip().split(' '):\n",
    "        x.append(decode_block(msg)[i+1])\n",
    "    output_string.append(x)\n",
    "\n",
    "for ind in range(7):\n",
    "  for i in range(1, 128):\n",
    "      for p1, e1 in zip(PossibleExponents[ind+1], possibleDiagonalVals[ind+1][ind+1]):\n",
    "          for p2, e2 in zip(PossibleExponents[ind], possibleDiagonalVals[ind][ind]):\n",
    "              for k in range(128):\n",
    "                  flag = True\n",
    "                  x1 = F.Multiply(Exponentiate(F.Multiply(Exponentiate(ord(input_string[k]), p2), e2), p2), i)\n",
    "                  x2 = F.Multiply(Exponentiate(F.Multiply(Exponentiate(ord(input_string[k]), p2), i), p1), e1)\n",
    "                  c1 = np.bitwise_xor(x1,x2)\n",
    "                  if(ord(output_string[ind][k]) != Exponentiate(c1,p1)):\n",
    "                      flag = False\n",
    "                      break\n",
    "              if flag:\n",
    "                  PossibleExponents[ind+1] = [p1]\n",
    "                  possibleDiagonalVals[ind+1][ind+1] = [e1]\n",
    "                  PossibleExponents[ind] = [p2]\n",
    "                  possibleDiagonalVals[ind][ind] = [e2]\n",
    "                  possibleDiagonalVals[ind][ind+1] = [i]\n",
    "print('===========================')\n",
    "print(possibleDiagonalVals)\n",
    "print(PossibleExponents)\n"
   ]
  },
  {
   "cell_type": "code",
   "execution_count": 4,
   "id": "ff2fe30e",
   "metadata": {
    "ExecuteTime": {
     "end_time": "2022-03-30T17:04:29.587277Z",
     "start_time": "2022-03-30T17:04:17.927413Z"
    },
    "scrolled": true
   },
   "outputs": [
    {
     "name": "stdout",
     "output_type": "stream",
     "text": [
      "[[ 84   0   0   0   0   0   0   0]\n",
      " [112  70   0   0   0   0   0   0]\n",
      " [ 13  30  43   0   0   0   0   0]\n",
      " [102  16   3  12   0   0   0   0]\n",
      " [111  62   0 104 112   0   0   0]\n",
      " [ 25  50  25  51  99  11   0   0]\n",
      " [  8 123  23 103  25  88  27   0]\n",
      " [ 67   3  74  26  10  66  30  38]]\n",
      "[22, 115, 38, 69, 92, 43, 20, 26]\n"
     ]
    }
   ],
   "source": [
    "def EAEAE (msg, lin_mat, exp_mat): # Defines EAEAE\n",
    "  msg = [ord(m) for m in msg]\n",
    "  res = [Exponentiate(msg[i], exp_mat[i]) for i in range(8)]\n",
    "  res = LinearTransform(lin_mat, res)\n",
    "  res = [Exponentiate(res[i], exp_mat[i]) for i in range(8)]\n",
    "  res = LinearTransform(lin_mat, res)\n",
    "  res = [Exponentiate(res[i], exp_mat[i]) for i in range(8)]\n",
    "  return res\n",
    "\n",
    "\n",
    "input_file = open('plaintexts.txt','r')\n",
    "output_file = open('ciphertexts.txt','r')\n",
    "input = input_file.readlines()\n",
    "output = output_file.readlines()\n",
    "\n",
    "\n",
    "input_string = []\n",
    "for i in range(len(input)):\n",
    "    x = []\n",
    "    for msg in input[i].strip().split(' '):\n",
    "        x.append(decode_block(msg))\n",
    "    input_string.append(x)\n",
    "\n",
    "\n",
    "output_string = []\n",
    "for i in range(len(output)):\n",
    "    x = []\n",
    "    for msg in output[i].strip().split(' '):\n",
    "        x.append(decode_block(msg))\n",
    "    output_string.append(x)\n",
    "\n",
    "\n",
    "\n",
    "for indexex in range(0,6):\n",
    "    offset = indexex + 2\n",
    "    \n",
    "   \n",
    "    exp_list = [e[0] for e in PossibleExponents]\n",
    "    lin_trans_list = np.zeros((8,8),int)\n",
    "\n",
    "    for i in range(8):\n",
    "      for j in range(8):     \n",
    "        if(len(possibleDiagonalVals[i][j]) != 0):\n",
    "            lin_trans_list[i][j] = possibleDiagonalVals[i][j][0]\n",
    "        else:\n",
    "            lin_trans_list[i][j] = 0\n",
    "          \n",
    "\n",
    "    \n",
    "    for index in range(8):\n",
    "        if(index > (7-offset)):\n",
    "            continue\n",
    "\n",
    "        for i in range(127):\n",
    "            lin_trans_list[index][index+offset] = i+1\n",
    "            flag = True\n",
    "            for inps, outs in zip(input_string[index], output_string[index]):\n",
    "                x1 = EAEAE(inps, lin_trans_list, exp_list)[index+offset]\n",
    "                x2 = outs[index+offset]\n",
    "                if x1 != ord(x2):\n",
    "                    flag = False\n",
    "                    break\n",
    "            if flag==True:\n",
    "                possibleDiagonalVals[index][index+offset] = [i+1]\n",
    "                \n",
    "A = np.zeros((8,8),dtype='int')\n",
    "\n",
    "for i in range(0,8):\n",
    "    for j in range(0,8):\n",
    "      if len(possibleDiagonalVals[j][i]) != 0:\n",
    "       A[i][j] = possibleDiagonalVals[j][i][0]\n",
    "\n",
    "\n",
    "\n",
    "E = exp_list\n",
    "\n",
    "print(A)\n",
    "print(E)"
   ]
  },
  {
   "cell_type": "code",
   "execution_count": 5,
   "id": "liberal-first",
   "metadata": {
    "ExecuteTime": {
     "end_time": "2022-03-30T17:04:29.649114Z",
     "start_time": "2022-03-30T17:04:29.589271Z"
    }
   },
   "outputs": [],
   "source": [
    "\n",
    "\n",
    "Einverse = np.zeros((128, 128), dtype = int)\n",
    "\n",
    "for base in range(0,128):\n",
    "    temp = 1\n",
    "    for power in range(1,127):\n",
    "        result = F.Multiply(temp, base)\n",
    "        Einverse[power][result] = base\n",
    "        temp = result\n",
    "       \n",
    "inverseA = [[ 67,   0,   0,   0,   0,   0,   0,   0],\n",
    "       [ 81,  77,   0,   0,   0,   0,   0,   0],\n",
    "       [ 26,   5,  96,   0,   0,   0,   0,   0],\n",
    "       [ 13,  15,  24,  94,   0,   0,   0,   0],\n",
    "       [ 80,   4,  41, 120,  19,   0,   0,   0],\n",
    "       [ 27,  99,  25,  92,  23,  74,   0,   0],\n",
    "       [ 55,  83,  71,   5,  17, 112,  14,   0],\n",
    "       [ 81,  30, 123,  87,  64, 127,  48,  56]]\n"
   ]
  },
  {
   "cell_type": "code",
   "execution_count": 6,
   "id": "proud-shore",
   "metadata": {
    "ExecuteTime": {
     "end_time": "2022-03-30T17:04:29.681036Z",
     "start_time": "2022-03-30T17:04:29.653102Z"
    }
   },
   "outputs": [
    {
     "name": "stdout",
     "output_type": "stream",
     "text": [
      "Inverse EAEAE values for block: 0:  [118, 116, 111, 107, 100, 112, 109, 119]\n",
      "Inverse EAEAE values for block: 1:  [101, 111, 48, 48, 48, 48, 48, 48]\n",
      "The password is vtokdpmweo000000\n"
     ]
    }
   ],
   "source": [
    "password = \"gsfojqmrimffismjfkjtkpkujlmjhjkp\" #Encrypted password\n",
    "block_size = 16\n",
    "num_blocks = int(len(password) / block_size) # 2 blocks\n",
    "\n",
    "def Einverse_calculator(block, E):\n",
    "    return [Einverse[E[i]][block[i]] for i in range(8) ]\n",
    "\n",
    "def Ainverse_calculator(block, A):\n",
    "    transformed = []\n",
    "    for row_num in range(0,8):\n",
    "        elem_sum = 0\n",
    "        for col_num in range(0,8):\n",
    "            elem = F.Multiply(A[row_num][col_num], block[col_num])\n",
    "            elem_sum = F.Add(elem, elem_sum)\n",
    "        transformed+=[elem_sum]\n",
    "    return transformed\n",
    "\n",
    "decrypted_password = \"\"\n",
    "for i in range(0,2): # Decipher both the blocks of the password\n",
    "    elements = password[block_size*i:block_size*(i+1)]\n",
    "    currentBlock = []\n",
    "    for j in range(0,8):\n",
    "        currentBlock+=[(ord(elements[2*j]) - ord('f'))*16 + (ord(elements[2*j+1]) - ord('f'))]\n",
    "    \n",
    "    EA = Ainverse_calculator(Einverse_calculator(currentBlock, E), inverseA)\n",
    "    EAE = Einverse_calculator(EA, E)\n",
    "    \n",
    "    EAEA = Ainverse_calculator(EAE, inverseA)\n",
    "    EAEAE = Einverse_calculator(EAEA, E)\n",
    "    \n",
    "    print(\"Inverse EAEAE values for block:\",str(i)+\": \",EAEAE)\n",
    "    for ch in EAEAE:\n",
    "        decrypted_password += chr(ch)\n",
    "print(\"The password is\",decrypted_password)\n",
    "    "
   ]
  }
 ],
 "metadata": {
  "kernelspec": {
   "display_name": "Python 3",
   "language": "python",
   "name": "python3"
  },
  "language_info": {
   "codemirror_mode": {
    "name": "ipython",
    "version": 3
   },
   "file_extension": ".py",
   "mimetype": "text/x-python",
   "name": "python",
   "nbconvert_exporter": "python",
   "pygments_lexer": "ipython3",
   "version": "3.8.8"
  },
  "varInspector": {
   "cols": {
    "lenName": 16,
    "lenType": 16,
    "lenVar": 40
   },
   "kernels_config": {
    "python": {
     "delete_cmd_postfix": "",
     "delete_cmd_prefix": "del ",
     "library": "var_list.py",
     "varRefreshCmd": "print(var_dic_list())"
    },
    "r": {
     "delete_cmd_postfix": ") ",
     "delete_cmd_prefix": "rm(",
     "library": "var_list.r",
     "varRefreshCmd": "cat(var_dic_list()) "
    }
   },
   "types_to_exclude": [
    "module",
    "function",
    "builtin_function_or_method",
    "instance",
    "_Feature"
   ],
   "window_display": false
  }
 },
 "nbformat": 4,
 "nbformat_minor": 5
}

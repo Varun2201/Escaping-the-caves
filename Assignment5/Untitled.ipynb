{
 "cells": [
  {
   "cell_type": "code",
   "execution_count": 34,
   "id": "69bb94bc",
   "metadata": {
    "ExecuteTime": {
     "end_time": "2022-03-30T13:27:09.498283Z",
     "start_time": "2022-03-30T13:27:09.478234Z"
    }
   },
   "outputs": [],
   "source": [
    "Ainvorig = [[ 67,   0,   0,   0,   0,   0,   0,   0],\n",
    "       [ 81,  77,   0,   0,   0,   0,   0,   0],\n",
    "       [ 26,   5,  96,   0,   0,   0,   0,   0],\n",
    "       [ 13,  15,  24,  94,   0,   0,   0,   0],\n",
    "       [ 80,   4,  41, 120,  19,   0,   0,   0],\n",
    "       [ 27,  99,  25,  92,  23,  74,   0,   0],\n",
    "       [ 55,  83,  71,   5,  17, 112,  14,   0],\n",
    "       [ 81,  30, 123,  87,  64, 127,  48,  56]]"
   ]
  },
  {
   "cell_type": "code",
   "execution_count": 41,
   "id": "1c5c0b48",
   "metadata": {
    "ExecuteTime": {
     "end_time": "2022-03-30T13:32:54.720279Z",
     "start_time": "2022-03-30T13:32:54.697185Z"
    }
   },
   "outputs": [
    {
     "name": "stdout",
     "output_type": "stream",
     "text": [
      "Galois Field:\n",
      "  name: GF(2^7)\n",
      "  characteristic: 2\n",
      "  degree: 7\n",
      "  order: 128\n",
      "  irreducible_poly: x^7 + x + 1\n",
      "  is_primitive_poly: True\n",
      "  primitive_element: x\n"
     ]
    }
   ],
   "source": [
    "\n",
    "import galois\n",
    "\n",
    "a = galois.GF(2**7)\n",
    "\n",
    "print(a)"
   ]
  }
 ],
 "metadata": {
  "kernelspec": {
   "display_name": "Python 3",
   "language": "python",
   "name": "python3"
  },
  "language_info": {
   "codemirror_mode": {
    "name": "ipython",
    "version": 3
   },
   "file_extension": ".py",
   "mimetype": "text/x-python",
   "name": "python",
   "nbconvert_exporter": "python",
   "pygments_lexer": "ipython3",
   "version": "3.8.8"
  },
  "varInspector": {
   "cols": {
    "lenName": 16,
    "lenType": 16,
    "lenVar": 40
   },
   "kernels_config": {
    "python": {
     "delete_cmd_postfix": "",
     "delete_cmd_prefix": "del ",
     "library": "var_list.py",
     "varRefreshCmd": "print(var_dic_list())"
    },
    "r": {
     "delete_cmd_postfix": ") ",
     "delete_cmd_prefix": "rm(",
     "library": "var_list.r",
     "varRefreshCmd": "cat(var_dic_list()) "
    }
   },
   "types_to_exclude": [
    "module",
    "function",
    "builtin_function_or_method",
    "instance",
    "_Feature"
   ],
   "window_display": false
  }
 },
 "nbformat": 4,
 "nbformat_minor": 5
}

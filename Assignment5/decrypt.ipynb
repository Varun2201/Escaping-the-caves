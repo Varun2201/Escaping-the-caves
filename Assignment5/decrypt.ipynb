{
 "cells": [
  {
   "cell_type": "code",
   "execution_count": 1,
   "id": "metric-solution",
   "metadata": {
    "ExecuteTime": {
     "end_time": "2022-03-30T14:29:26.217984Z",
     "start_time": "2022-03-30T14:29:25.908018Z"
    }
   },
   "outputs": [],
   "source": [
    "import numpy as np\n",
    "from pyfinite import ffield"
   ]
  },
  {
   "cell_type": "code",
   "execution_count": 2,
   "id": "fitted-dylan",
   "metadata": {
    "ExecuteTime": {
     "end_time": "2022-03-30T14:29:26.248912Z",
     "start_time": "2022-03-30T14:29:26.219934Z"
    }
   },
   "outputs": [
    {
     "data": {
      "text/plain": [
       "[[84, 0, 0, 0, 0, 0, 0, 0],\n",
       " [112, 70, 0, 0, 0, 0, 0, 0],\n",
       " [13, 30, 43, 0, 0, 0, 0, 0],\n",
       " [102, 16, 3, 12, 0, 0, 0, 0],\n",
       " [111, 62, 0, 104, 112, 0, 0, 0],\n",
       " [25, 50, 25, 51, 99, 11, 0, 0],\n",
       " [8, 123, 23, 103, 25, 88, 27, 0],\n",
       " [67, 3, 74, 26, 10, 66, 30, 38]]"
      ]
     },
     "execution_count": 2,
     "metadata": {},
     "output_type": "execute_result"
    }
   ],
   "source": [
    "#Final Matrices as obtained from Cryptanalysis.ipynb\n",
    "At = [[84, 112, 13, 102, 111, 25, 8, 67], [0, 70, 30, 16, 62, 50, 123, 3], [0, 0, 43, 3, 0, 25, 23, 74], [0, 0, 0, 12, 104, 51, 103, 26], [0, 0, 0, 0, 112, 99, 25, 10], [0, 0, 0, 0, 0, 11, 88, 66], [0, 0, 0, 0, 0, 0, 27, 30], [0, 0, 0, 0, 0, 0, 0, 38]]\n",
    "E = [22, 115, 38, 69, 92, 43, 20, 26]\n",
    "A = [[At[j][i] for j in range(len(At))] for i in range(len(At[0]))]\n",
    "A"
   ]
  },
  {
   "cell_type": "code",
   "execution_count": 3,
   "id": "liberal-first",
   "metadata": {
    "ExecuteTime": {
     "end_time": "2022-03-30T14:29:26.355889Z",
     "start_time": "2022-03-30T14:29:26.253872Z"
    }
   },
   "outputs": [
    {
     "name": "stdout",
     "output_type": "stream",
     "text": [
      "A inverse matrix: \n",
      "[[ 67   0   0   0   0   0   0   0]\n",
      " [ 81  77   0   0   0   0   0   0]\n",
      " [ 26   5  96   0   0   0   0   0]\n",
      " [ 13  15  24  94   0   0   0   0]\n",
      " [ 80   4  41 120  19   0   0   0]\n",
      " [ 27  99  25  92  23  74   0   0]\n",
      " [ 55  83  71   5  17 112  14   0]\n",
      " [ 81  30 123  87  64 127  48  56]]\n"
     ]
    }
   ],
   "source": [
    "block_size = 8\n",
    "F = ffield.FField(7, gen=0x83, useLUT=-1)\n",
    "A = np.array((A))\n",
    "augmentedA = np.zeros((block_size, block_size*2), dtype = int)\n",
    "inverseA = np.zeros((block_size, block_size), dtype = int)\n",
    "Einverse = np.zeros((128, 128), dtype = int)\n",
    "\n",
    "exponents = []\n",
    "for i in range(0,128):\n",
    "    exponents.append([1])\n",
    "\n",
    "for base in range(0,128):\n",
    "    for exponent in range(1,127):\n",
    "        temp = exponents[base][exponent-1]\n",
    "        result = F.Multiply(temp, base)\n",
    "        exponents[base]+=[result]\n",
    "\n",
    "for base in range(0,128):\n",
    "    for exponent in range(1,127):\n",
    "        Einverse[exponent][exponents[base][exponent]] = base\n",
    "\n",
    "inverses = [1]\n",
    "for i in range(1, 128):\n",
    "    inverses+=[F.Inverse(i)]\n",
    "    assert F.Multiply(i, inverses[i]) == 1\n",
    "\n",
    "\n",
    "for i in range(0,block_size):\n",
    "    for j in range(0,block_size):\n",
    "        augmentedA[i][j] = A[i][j]\n",
    "    augmentedA[i][i+j+1] = 1\n",
    "\n",
    "for j in range(0,block_size):\n",
    "    assert np.any(augmentedA[j:,j] != 0) # assert pivot row exists: A is invertible\n",
    "    pivot_row = np.where(augmentedA[j:,j] != 0)[0][0] + j\n",
    "    augmentedA[[j, pivot_row]] = augmentedA[[pivot_row, j]]\n",
    "    # make pivot k 1\n",
    "    mul_fact = inverses[augmentedA[j][j]]\n",
    "    for k in range(block_size*2):\n",
    "        augmentedA[j][k] = F.Multiply(augmentedA[j][k], mul_fact)\n",
    "    for i in range(0,block_size):\n",
    "        if i!=j and augmentedA[i][j] != 0:\n",
    "            mult_fact = augmentedA[i][j]\n",
    "            for k in range(block_size*2):\n",
    "                temp = F.Multiply(augmentedA[j][k], mult_fact)\n",
    "                augmentedA[i][k] = F.Add(temp, augmentedA[i][k])\n",
    "\n",
    "for i in range(0,block_size):\n",
    "    for j in range(0,block_size):\n",
    "        inverseA[i][j] = augmentedA[i][block_size+j]\n",
    "print(\"A inverse matrix: \\n{}\".format(inverseA))"
   ]
  },
  {
   "cell_type": "code",
   "execution_count": 7,
   "id": "proud-shore",
   "metadata": {
    "ExecuteTime": {
     "end_time": "2022-03-30T14:31:04.576232Z",
     "start_time": "2022-03-30T14:31:04.521148Z"
    }
   },
   "outputs": [
    {
     "ename": "TypeError",
     "evalue": "only integer scalar arrays can be converted to a scalar index",
     "output_type": "error",
     "traceback": [
      "\u001b[1;31m---------------------------------------------------------------------------\u001b[0m",
      "\u001b[1;31mTypeError\u001b[0m                                 Traceback (most recent call last)",
      "\u001b[1;32m<ipython-input-7-232861bc5b34>\u001b[0m in \u001b[0;36m<module>\u001b[1;34m\u001b[0m\n\u001b[0;32m     28\u001b[0m     \u001b[0mEAE\u001b[0m \u001b[1;33m=\u001b[0m \u001b[0mEinverse_calculator\u001b[0m\u001b[1;33m(\u001b[0m\u001b[0mEA\u001b[0m\u001b[1;33m,\u001b[0m \u001b[0mE\u001b[0m\u001b[1;33m)\u001b[0m\u001b[1;33m\u001b[0m\u001b[1;33m\u001b[0m\u001b[0m\n\u001b[0;32m     29\u001b[0m \u001b[1;33m\u001b[0m\u001b[0m\n\u001b[1;32m---> 30\u001b[1;33m     \u001b[0mEAEA\u001b[0m \u001b[1;33m=\u001b[0m \u001b[0mAinverse_calculator\u001b[0m\u001b[1;33m(\u001b[0m\u001b[0mEAE\u001b[0m\u001b[1;33m,\u001b[0m \u001b[0minverseA\u001b[0m\u001b[1;33m)\u001b[0m\u001b[1;33m\u001b[0m\u001b[1;33m\u001b[0m\u001b[0m\n\u001b[0m\u001b[0;32m     31\u001b[0m     \u001b[0mEAEAE\u001b[0m \u001b[1;33m=\u001b[0m \u001b[0mEinverse_calculator\u001b[0m\u001b[1;33m(\u001b[0m\u001b[0mEAEA\u001b[0m\u001b[1;33m,\u001b[0m \u001b[0mE\u001b[0m\u001b[1;33m)\u001b[0m\u001b[1;33m\u001b[0m\u001b[1;33m\u001b[0m\u001b[0m\n\u001b[0;32m     32\u001b[0m \u001b[1;33m\u001b[0m\u001b[0m\n",
      "\u001b[1;32m<ipython-input-7-232861bc5b34>\u001b[0m in \u001b[0;36mAinverse_calculator\u001b[1;34m(msg, linmat)\u001b[0m\n\u001b[0;32m     13\u001b[0m     \u001b[1;32mfor\u001b[0m \u001b[0mi\u001b[0m \u001b[1;32min\u001b[0m \u001b[0mrange\u001b[0m\u001b[1;33m(\u001b[0m\u001b[1;36m8\u001b[0m\u001b[1;33m)\u001b[0m\u001b[1;33m:\u001b[0m\u001b[1;33m\u001b[0m\u001b[1;33m\u001b[0m\u001b[0m\n\u001b[0;32m     14\u001b[0m         \u001b[0mtemp\u001b[0m  \u001b[1;33m=\u001b[0m \u001b[1;33m[\u001b[0m\u001b[1;36m0\u001b[0m\u001b[1;33m]\u001b[0m\u001b[1;33m*\u001b[0m\u001b[1;36m8\u001b[0m\u001b[1;33m\u001b[0m\u001b[1;33m\u001b[0m\u001b[0m\n\u001b[1;32m---> 15\u001b[1;33m         \u001b[0mmul\u001b[0m \u001b[1;33m=\u001b[0m \u001b[1;33m[\u001b[0m\u001b[0mF\u001b[0m\u001b[1;33m.\u001b[0m\u001b[0mMultiply\u001b[0m\u001b[1;33m(\u001b[0m\u001b[0mlinmat\u001b[0m\u001b[1;33m[\u001b[0m\u001b[0mi\u001b[0m\u001b[1;33m]\u001b[0m\u001b[1;33m[\u001b[0m\u001b[0mj\u001b[0m\u001b[1;33m]\u001b[0m\u001b[1;33m,\u001b[0m\u001b[0mmsg\u001b[0m\u001b[1;33m[\u001b[0m\u001b[0mj\u001b[0m\u001b[1;33m]\u001b[0m\u001b[1;33m)\u001b[0m \u001b[1;32mfor\u001b[0m \u001b[0mj\u001b[0m \u001b[1;32min\u001b[0m \u001b[0mrange\u001b[0m\u001b[1;33m(\u001b[0m\u001b[1;36m8\u001b[0m\u001b[1;33m)\u001b[0m\u001b[1;33m]\u001b[0m\u001b[1;33m\u001b[0m\u001b[1;33m\u001b[0m\u001b[0m\n\u001b[0m\u001b[0;32m     16\u001b[0m         \u001b[1;32mfor\u001b[0m \u001b[0mk\u001b[0m \u001b[1;32min\u001b[0m \u001b[0mrange\u001b[0m\u001b[1;33m(\u001b[0m\u001b[1;36m8\u001b[0m\u001b[1;33m)\u001b[0m\u001b[1;33m:\u001b[0m\u001b[1;33m\u001b[0m\u001b[1;33m\u001b[0m\u001b[0m\n\u001b[0;32m     17\u001b[0m             \u001b[0mtemp\u001b[0m\u001b[1;33m.\u001b[0m\u001b[0mappend\u001b[0m\u001b[1;33m(\u001b[0m\u001b[0mnp\u001b[0m\u001b[1;33m.\u001b[0m\u001b[0mbitwise_xor\u001b[0m\u001b[1;33m(\u001b[0m\u001b[0mtemp\u001b[0m\u001b[1;33m[\u001b[0m\u001b[0mk\u001b[0m\u001b[1;33m]\u001b[0m\u001b[1;33m,\u001b[0m\u001b[0mmul\u001b[0m\u001b[1;33m[\u001b[0m\u001b[0mk\u001b[0m\u001b[1;33m]\u001b[0m\u001b[1;33m)\u001b[0m\u001b[1;33m)\u001b[0m\u001b[1;33m\u001b[0m\u001b[1;33m\u001b[0m\u001b[0m\n",
      "\u001b[1;32m<ipython-input-7-232861bc5b34>\u001b[0m in \u001b[0;36m<listcomp>\u001b[1;34m(.0)\u001b[0m\n\u001b[0;32m     13\u001b[0m     \u001b[1;32mfor\u001b[0m \u001b[0mi\u001b[0m \u001b[1;32min\u001b[0m \u001b[0mrange\u001b[0m\u001b[1;33m(\u001b[0m\u001b[1;36m8\u001b[0m\u001b[1;33m)\u001b[0m\u001b[1;33m:\u001b[0m\u001b[1;33m\u001b[0m\u001b[1;33m\u001b[0m\u001b[0m\n\u001b[0;32m     14\u001b[0m         \u001b[0mtemp\u001b[0m  \u001b[1;33m=\u001b[0m \u001b[1;33m[\u001b[0m\u001b[1;36m0\u001b[0m\u001b[1;33m]\u001b[0m\u001b[1;33m*\u001b[0m\u001b[1;36m8\u001b[0m\u001b[1;33m\u001b[0m\u001b[1;33m\u001b[0m\u001b[0m\n\u001b[1;32m---> 15\u001b[1;33m         \u001b[0mmul\u001b[0m \u001b[1;33m=\u001b[0m \u001b[1;33m[\u001b[0m\u001b[0mF\u001b[0m\u001b[1;33m.\u001b[0m\u001b[0mMultiply\u001b[0m\u001b[1;33m(\u001b[0m\u001b[0mlinmat\u001b[0m\u001b[1;33m[\u001b[0m\u001b[0mi\u001b[0m\u001b[1;33m]\u001b[0m\u001b[1;33m[\u001b[0m\u001b[0mj\u001b[0m\u001b[1;33m]\u001b[0m\u001b[1;33m,\u001b[0m\u001b[0mmsg\u001b[0m\u001b[1;33m[\u001b[0m\u001b[0mj\u001b[0m\u001b[1;33m]\u001b[0m\u001b[1;33m)\u001b[0m \u001b[1;32mfor\u001b[0m \u001b[0mj\u001b[0m \u001b[1;32min\u001b[0m \u001b[0mrange\u001b[0m\u001b[1;33m(\u001b[0m\u001b[1;36m8\u001b[0m\u001b[1;33m)\u001b[0m\u001b[1;33m]\u001b[0m\u001b[1;33m\u001b[0m\u001b[1;33m\u001b[0m\u001b[0m\n\u001b[0m\u001b[0;32m     16\u001b[0m         \u001b[1;32mfor\u001b[0m \u001b[0mk\u001b[0m \u001b[1;32min\u001b[0m \u001b[0mrange\u001b[0m\u001b[1;33m(\u001b[0m\u001b[1;36m8\u001b[0m\u001b[1;33m)\u001b[0m\u001b[1;33m:\u001b[0m\u001b[1;33m\u001b[0m\u001b[1;33m\u001b[0m\u001b[0m\n\u001b[0;32m     17\u001b[0m             \u001b[0mtemp\u001b[0m\u001b[1;33m.\u001b[0m\u001b[0mappend\u001b[0m\u001b[1;33m(\u001b[0m\u001b[0mnp\u001b[0m\u001b[1;33m.\u001b[0m\u001b[0mbitwise_xor\u001b[0m\u001b[1;33m(\u001b[0m\u001b[0mtemp\u001b[0m\u001b[1;33m[\u001b[0m\u001b[0mk\u001b[0m\u001b[1;33m]\u001b[0m\u001b[1;33m,\u001b[0m\u001b[0mmul\u001b[0m\u001b[1;33m[\u001b[0m\u001b[0mk\u001b[0m\u001b[1;33m]\u001b[0m\u001b[1;33m)\u001b[0m\u001b[1;33m)\u001b[0m\u001b[1;33m\u001b[0m\u001b[1;33m\u001b[0m\u001b[0m\n",
      "\u001b[1;32mD:\\Anaconda\\lib\\site-packages\\pyfinite\\ffield.py\u001b[0m in \u001b[0;36mLUTMultiply\u001b[1;34m(self, i, j)\u001b[0m\n\u001b[0;32m    222\u001b[0m         \u001b[0mi\u001b[0m \u001b[1;33m=\u001b[0m \u001b[0mgetattr\u001b[0m\u001b[1;33m(\u001b[0m\u001b[0mi\u001b[0m\u001b[1;33m,\u001b[0m \u001b[1;34m'f'\u001b[0m\u001b[1;33m,\u001b[0m \u001b[0mi\u001b[0m\u001b[1;33m)\u001b[0m  \u001b[1;31m# needed if i is a field element\u001b[0m\u001b[1;33m\u001b[0m\u001b[1;33m\u001b[0m\u001b[0m\n\u001b[0;32m    223\u001b[0m         \u001b[0mj\u001b[0m \u001b[1;33m=\u001b[0m \u001b[0mgetattr\u001b[0m\u001b[1;33m(\u001b[0m\u001b[0mj\u001b[0m\u001b[1;33m,\u001b[0m \u001b[1;34m'f'\u001b[0m\u001b[1;33m,\u001b[0m \u001b[0mj\u001b[0m\u001b[1;33m)\u001b[0m  \u001b[1;31m# needed if j is a field element\u001b[0m\u001b[1;33m\u001b[0m\u001b[1;33m\u001b[0m\u001b[0m\n\u001b[1;32m--> 224\u001b[1;33m         \u001b[1;32mreturn\u001b[0m \u001b[0mself\u001b[0m\u001b[1;33m.\u001b[0m\u001b[0mlut\u001b[0m\u001b[1;33m.\u001b[0m\u001b[0mmulLUT\u001b[0m\u001b[1;33m[\u001b[0m\u001b[0mi\u001b[0m\u001b[1;33m]\u001b[0m\u001b[1;33m[\u001b[0m\u001b[0mj\u001b[0m\u001b[1;33m]\u001b[0m\u001b[1;33m\u001b[0m\u001b[1;33m\u001b[0m\u001b[0m\n\u001b[0m\u001b[0;32m    225\u001b[0m \u001b[1;33m\u001b[0m\u001b[0m\n\u001b[0;32m    226\u001b[0m     \u001b[1;32mdef\u001b[0m \u001b[0mLUTDivide\u001b[0m\u001b[1;33m(\u001b[0m\u001b[0mself\u001b[0m\u001b[1;33m,\u001b[0m \u001b[0mi\u001b[0m\u001b[1;33m,\u001b[0m \u001b[0mj\u001b[0m\u001b[1;33m)\u001b[0m\u001b[1;33m:\u001b[0m\u001b[1;33m\u001b[0m\u001b[1;33m\u001b[0m\u001b[0m\n",
      "\u001b[1;31mTypeError\u001b[0m: only integer scalar arrays can be converted to a scalar index"
     ]
    }
   ],
   "source": [
    "password = \"gsfojqmrimffismjfkjtkpkujlmjhjkp\" #Encrypted password\n",
    "block_size = 16\n",
    "num_blocks = int(len(password) / block_size) # 2 blocks\n",
    "\n",
    "def Einverse_calculator(block, E):\n",
    "    transformed = []\n",
    "    for j in range(0,8):\n",
    "        transformed+=[Einverse[E[j]][block[j]]]\n",
    "    return transformed\n",
    "\n",
    "def LinearTransform(msg,linmat):\n",
    "    ans = [0]*8\n",
    "    for i in range(8):\n",
    "        temp  = []\n",
    "        mul = [F.Multiply(linmat[i][j],msg[i]) for j in range(8)]\n",
    "        for k in range(8):\n",
    "            temp.append(np.bitwise_xor(ans[k],mul[k]))\n",
    "        ans = temp\n",
    "    return ans\n",
    "def Ainverse_calculator(block, A):\n",
    "    transformed = []\n",
    "    for row_num in range(0,8):\n",
    "        elem_sum = 0\n",
    "        for col_num in range(0,8):\n",
    "            elem = F.Multiply(A[row_num][col_num], block[col_num])\n",
    "            elem_sum = F.Add(elem, elem_sum)\n",
    "        transformed+=[elem_sum]\n",
    "    return transformed\n",
    "\n",
    "decrypted_password = \"\"\n",
    "for i in range(0,2): # Decipher both the blocks of the password\n",
    "    elements = password[block_size*i:block_size*(i+1)]\n",
    "    currentBlock = []\n",
    "    for j in range(0,8):\n",
    "        currentBlock+=[(ord(elements[2*j]) - ord('f'))*16 + (ord(elements[2*j+1]) - ord('f'))]\n",
    "    \n",
    "    EA = Ainverse_calculator(Einverse_calculator(currentBlock, E), inverseA)\n",
    "    EAE = Einverse_calculator(EA, E)\n",
    "    \n",
    "    EAEA = Ainverse_calculator(EAE, inverseA)\n",
    "    EAEAE = Einverse_calculator(EAEA, E)\n",
    "    \n",
    "    print(\"Inverse EAEAE values for block:\",str(i)+\": \",EAEAE)\n",
    "    for ch in EAEAE:\n",
    "        decrypted_password += chr(ch)\n",
    "print(\"The password is\",decrypted_password)\n",
    "    "
   ]
  },
  {
   "cell_type": "code",
   "execution_count": null,
   "id": "different-israeli",
   "metadata": {},
   "outputs": [],
   "source": []
  }
 ],
 "metadata": {
  "kernelspec": {
   "display_name": "Python 3",
   "language": "python",
   "name": "python3"
  },
  "language_info": {
   "codemirror_mode": {
    "name": "ipython",
    "version": 3
   },
   "file_extension": ".py",
   "mimetype": "text/x-python",
   "name": "python",
   "nbconvert_exporter": "python",
   "pygments_lexer": "ipython3",
   "version": "3.8.8"
  },
  "varInspector": {
   "cols": {
    "lenName": 16,
    "lenType": 16,
    "lenVar": 40
   },
   "kernels_config": {
    "python": {
     "delete_cmd_postfix": "",
     "delete_cmd_prefix": "del ",
     "library": "var_list.py",
     "varRefreshCmd": "print(var_dic_list())"
    },
    "r": {
     "delete_cmd_postfix": ") ",
     "delete_cmd_prefix": "rm(",
     "library": "var_list.r",
     "varRefreshCmd": "cat(var_dic_list()) "
    }
   },
   "types_to_exclude": [
    "module",
    "function",
    "builtin_function_or_method",
    "instance",
    "_Feature"
   ],
   "window_display": false
  }
 },
 "nbformat": 4,
 "nbformat_minor": 5
}

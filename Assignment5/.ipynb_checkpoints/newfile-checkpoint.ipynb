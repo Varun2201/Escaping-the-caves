{
 "cells": [
  {
   "cell_type": "code",
   "execution_count": 1,
   "id": "87076cc2",
   "metadata": {
    "ExecuteTime": {
     "end_time": "2022-03-30T11:53:16.049998Z",
     "start_time": "2022-03-30T11:53:15.787307Z"
    }
   },
   "outputs": [],
   "source": [
    "import numpy as np\n",
    "from pyfinite import ffield\n",
    "\n",
    "expo = []\n",
    "rang  =128\n",
    "for i in range(rang):\n",
    "    expo.append([-1]*128)\n",
    "\n",
    "#a F_128 element will be represented as 7 bit integer i.e. x^2+x+1 = 0000111\n",
    "F = ffield.FField(7, gen=0x83, useLUT=-1)\n",
    "\n",
    "#functions for Field elements\n",
    "\n",
    "\n",
    "def Exponentiate(ele, power):\n",
    "    if(expo[ele][power]!=-1):\n",
    "      return expo[ele][power]   \n",
    "    res = 0\n",
    "    if(power==0):\n",
    "      return 1 \n",
    "    elif(power==1):\n",
    "      return ele\n",
    "    elif(power%2 == 1):\n",
    "      sqrt_ele = Exponentiate(ele,power//2)\n",
    "      res = F.Multiply(ele,F.Multiply(sqrt_ele,sqrt_ele))\n",
    "    else:\n",
    "      res = F.Multiply(Exponentiate(ele,power//2), Exponentiate(ele,power//2))\n",
    "    expo[ele][power] = res\n",
    "    return res\n",
    "\n",
    "def LinearTransform(matrix, ele_list):\n",
    "  def addVectors(vec1, vec2):\n",
    "    res=[0,0,0,0,0,0,0,0]\n",
    "    for i, (ele1, ele2) in enumerate(zip(vec1, vec2)):\n",
    "        res[i] = Add(ele1, ele2)\n",
    "    return res\n",
    "\n",
    "  def mulVectors(vec, ele):\n",
    "    res= [0,0,0,0,0,0,0,0]\n",
    "    for i, e in enumerate(vec):\n",
    "      res[i] = Multiply(e,ele)\n",
    "    return res\n",
    "  \n",
    "  res = [0,0,0,0,0,0,0,0]\n",
    "  for row, ele in zip(matrix, ele_list):\n",
    "    temp = mulVectors(row, ele)\n",
    "    res= addVectors(temp, res)\n",
    "  return res"
   ]
  },
  {
   "cell_type": "code",
   "execution_count": 2,
   "id": "0b3ca134",
   "metadata": {
    "ExecuteTime": {
     "end_time": "2022-03-30T11:53:16.066037Z",
     "start_time": "2022-03-30T11:53:16.051991Z"
    }
   },
   "outputs": [],
   "source": [
    "def decode_block(cipher):\n",
    "  if(len(cipher)!=16):\n",
    "      print(\"length isn't 16 for cipher %s\" %cipher)\n",
    "      #exit(0)\n",
    "      return 0\n",
    "  plain= \"\"\n",
    "  for i in range(0,len(cipher),2):\n",
    "      plain+=chr(16*(ord(cipher[i:i+2][0]) - ord('f')) + ord(cipher[i:i+2][1]) - ord('f'))\n",
    "  return plain"
   ]
  },
  {
   "cell_type": "code",
   "execution_count": 3,
   "id": "3515a340",
   "metadata": {
    "ExecuteTime": {
     "end_time": "2022-03-30T11:53:16.970577Z",
     "start_time": "2022-03-30T11:53:16.068947Z"
    }
   },
   "outputs": [
    {
     "name": "stdout",
     "output_type": "stream",
     "text": [
      "Possible diagonal values: \n",
      "[[[84, 40, 49], [], [], [], [], [], [], []], [[], [122, 62, 70], [], [], [], [], [], []], [[], [], [119, 43, 5], [], [], [], [], []], [[], [], [], [68, 95, 12], [], [], [], []], [[], [], [], [], [47, 112, 96], [], [], []], [[], [], [], [], [], [38, 11, 58], [], []], [[], [], [], [], [], [], [27, 14], []], [[], [], [], [], [], [], [], [38, 92, 91]]]\n",
      "Possible exponents: \n",
      "[[22, 37, 68], [26, 113, 115], [2, 38, 87], [17, 41, 69], [65, 92, 97], [29, 43, 55], [20, 108], [26, 113, 115]]\n",
      "===========================\n",
      "[[[84], [112], [], [], [], [], [], []], [[], [70], [30], [], [], [], [], []], [[], [], [43], [3], [], [], [], []], [[], [], [], [12], [104], [], [], []], [[], [], [], [], [112], [99], [], []], [[], [], [], [], [], [11], [88], []], [[], [], [], [], [], [], [27], [30]], [[], [], [], [], [], [], [], [38]]]\n",
      "[[22], [115], [38], [69], [92], [43], [20], [26]]\n"
     ]
    }
   ],
   "source": [
    "#for diagonal elements\n",
    "PossibleExponents = [[] for i in range(8)]   \n",
    "possibleDiagonalVals=[[[] for i in range(8)] for j in range(8)]\n",
    "input_file = open('plaintexts.txt','r')\n",
    "output_file = open('ciphertexts.txt','r')\n",
    "input = (input_file.readlines()[0]).strip().split(' ')\n",
    "output = output_file.readlines()\n",
    "\n",
    "input_string = []\n",
    "for msg in input:\n",
    "    input_string.append(decode_block(msg)[0])\n",
    "#print(input_string)\n",
    "#print(len(output))\n",
    "output_string = []\n",
    "for i in range(len(output)):\n",
    "    x = []\n",
    "    for msg in output[i].strip().split(' '):\n",
    "        x.append(decode_block(msg)[i])\n",
    "    output_string.append(x)\n",
    "#print(output_string)\n",
    "for k in range(8):\n",
    "    for i in range(1, 127):\n",
    "        for j in range(1, 128):\n",
    "          flag = True\n",
    "          for m in range(128):\n",
    "            if(ord(output_string[k][m]) != Exponentiate(F.Multiply(Exponentiate(F.Multiply(Exponentiate(ord(input_string[m]), i), j), i), j), i)):\n",
    "              flag = False\n",
    "              break\n",
    "          if(flag):\n",
    "            PossibleExponents[k].append(i)\n",
    "            possibleDiagonalVals[k][k].append(j)\n",
    "print(\"Possible diagonal values: \")\n",
    "print(possibleDiagonalVals)\n",
    "print(\"Possible exponents: \")\n",
    "print(PossibleExponents)\n",
    "\n",
    "\n",
    "output_string = []\n",
    "for i in range(len(output)-1):\n",
    "    x = []\n",
    "    for msg in output[i].strip().split(' '):\n",
    "        x.append(decode_block(msg)[i+1])\n",
    "    output_string.append(x)\n",
    "\n",
    "for ind in range(7):\n",
    "  for i in range(1, 128):\n",
    "      for p1, e1 in zip(PossibleExponents[ind+1], possibleDiagonalVals[ind+1][ind+1]):\n",
    "          for p2, e2 in zip(PossibleExponents[ind], possibleDiagonalVals[ind][ind]):\n",
    "              for k in range(128):\n",
    "                  flag = True\n",
    "                  x1 = F.Multiply(Exponentiate(F.Multiply(Exponentiate(ord(input_string[k]), p2), e2), p2), i)\n",
    "                  x2 = F.Multiply(Exponentiate(F.Multiply(Exponentiate(ord(input_string[k]), p2), i), p1), e1)\n",
    "                  c1 = np.bitwise_xor(x1,x2)\n",
    "                  if(ord(output_string[ind][k]) != Exponentiate(c1,p1)):\n",
    "                      flag = False\n",
    "                      break\n",
    "              if flag:\n",
    "                  PossibleExponents[ind+1] = [p1]\n",
    "                  possibleDiagonalVals[ind+1][ind+1] = [e1]\n",
    "                  PossibleExponents[ind] = [p2]\n",
    "                  possibleDiagonalVals[ind][ind] = [e2]\n",
    "                  possibleDiagonalVals[ind][ind+1] = [i]\n",
    "print('===========================')\n",
    "print(possibleDiagonalVals)\n",
    "print(PossibleExponents)\n"
   ]
  },
  {
   "cell_type": "code",
   "execution_count": 4,
   "id": "ff2fe30e",
   "metadata": {
    "ExecuteTime": {
     "end_time": "2022-03-30T11:53:17.437318Z",
     "start_time": "2022-03-30T11:53:16.973038Z"
    }
   },
   "outputs": [
    {
     "ename": "NameError",
     "evalue": "name 'Multiply' is not defined",
     "output_type": "error",
     "traceback": [
      "\u001b[1;31m---------------------------------------------------------------------------\u001b[0m",
      "\u001b[1;31mNameError\u001b[0m                                 Traceback (most recent call last)",
      "\u001b[1;32m<ipython-input-4-9e8a90050228>\u001b[0m in \u001b[0;36m<module>\u001b[1;34m\u001b[0m\n\u001b[0;32m     70\u001b[0m             \u001b[0mflag\u001b[0m \u001b[1;33m=\u001b[0m \u001b[1;32mTrue\u001b[0m\u001b[1;33m\u001b[0m\u001b[1;33m\u001b[0m\u001b[0m\n\u001b[0;32m     71\u001b[0m             \u001b[1;32mfor\u001b[0m \u001b[0minps\u001b[0m\u001b[1;33m,\u001b[0m \u001b[0mouts\u001b[0m \u001b[1;32min\u001b[0m \u001b[0mzip\u001b[0m\u001b[1;33m(\u001b[0m\u001b[0minput_string\u001b[0m\u001b[1;33m[\u001b[0m\u001b[0mindex\u001b[0m\u001b[1;33m]\u001b[0m\u001b[1;33m,\u001b[0m \u001b[0moutput_string\u001b[0m\u001b[1;33m[\u001b[0m\u001b[0mindex\u001b[0m\u001b[1;33m]\u001b[0m\u001b[1;33m)\u001b[0m\u001b[1;33m:\u001b[0m\u001b[1;33m\u001b[0m\u001b[1;33m\u001b[0m\u001b[0m\n\u001b[1;32m---> 72\u001b[1;33m                 \u001b[0mx1\u001b[0m \u001b[1;33m=\u001b[0m \u001b[0mEAEAE\u001b[0m\u001b[1;33m(\u001b[0m\u001b[0minps\u001b[0m\u001b[1;33m,\u001b[0m \u001b[0mlin_trans_list\u001b[0m\u001b[1;33m,\u001b[0m \u001b[0mexp_list\u001b[0m\u001b[1;33m)\u001b[0m\u001b[1;33m[\u001b[0m\u001b[0mindex\u001b[0m\u001b[1;33m+\u001b[0m\u001b[0moffset\u001b[0m\u001b[1;33m]\u001b[0m\u001b[1;33m\u001b[0m\u001b[1;33m\u001b[0m\u001b[0m\n\u001b[0m\u001b[0;32m     73\u001b[0m                 \u001b[0mx2\u001b[0m \u001b[1;33m=\u001b[0m \u001b[0mouts\u001b[0m\u001b[1;33m[\u001b[0m\u001b[0mindex\u001b[0m\u001b[1;33m+\u001b[0m\u001b[0moffset\u001b[0m\u001b[1;33m]\u001b[0m\u001b[1;33m\u001b[0m\u001b[1;33m\u001b[0m\u001b[0m\n\u001b[0;32m     74\u001b[0m                 \u001b[1;32mif\u001b[0m \u001b[0mx1\u001b[0m \u001b[1;33m!=\u001b[0m \u001b[0mord\u001b[0m\u001b[1;33m(\u001b[0m\u001b[0mx2\u001b[0m\u001b[1;33m)\u001b[0m\u001b[1;33m:\u001b[0m\u001b[1;33m\u001b[0m\u001b[1;33m\u001b[0m\u001b[0m\n",
      "\u001b[1;32m<ipython-input-4-9e8a90050228>\u001b[0m in \u001b[0;36mEAEAE\u001b[1;34m(plaintext, lin_mat, exp_mat)\u001b[0m\n\u001b[0;32m      7\u001b[0m \u001b[1;33m\u001b[0m\u001b[0m\n\u001b[0;32m      8\u001b[0m   \u001b[1;31m#Second Layer - Linear Transform\u001b[0m\u001b[1;33m\u001b[0m\u001b[1;33m\u001b[0m\u001b[1;33m\u001b[0m\u001b[0m\n\u001b[1;32m----> 9\u001b[1;33m   \u001b[0mop\u001b[0m\u001b[1;33m[\u001b[0m\u001b[1;36m1\u001b[0m\u001b[1;33m]\u001b[0m \u001b[1;33m=\u001b[0m \u001b[0mLinearTransform\u001b[0m\u001b[1;33m(\u001b[0m\u001b[0mlin_mat\u001b[0m\u001b[1;33m,\u001b[0m \u001b[0mop\u001b[0m\u001b[1;33m[\u001b[0m\u001b[1;36m0\u001b[0m\u001b[1;33m]\u001b[0m\u001b[1;33m)\u001b[0m\u001b[1;33m\u001b[0m\u001b[1;33m\u001b[0m\u001b[0m\n\u001b[0m\u001b[0;32m     10\u001b[0m \u001b[1;33m\u001b[0m\u001b[0m\n\u001b[0;32m     11\u001b[0m   \u001b[1;31m#Third Layer - Exponentiation\u001b[0m\u001b[1;33m\u001b[0m\u001b[1;33m\u001b[0m\u001b[1;33m\u001b[0m\u001b[0m\n",
      "\u001b[1;32m<ipython-input-1-581eaef161dd>\u001b[0m in \u001b[0;36mLinearTransform\u001b[1;34m(matrix, ele_list)\u001b[0m\n\u001b[0;32m     44\u001b[0m   \u001b[0mres\u001b[0m \u001b[1;33m=\u001b[0m \u001b[1;33m[\u001b[0m\u001b[1;36m0\u001b[0m\u001b[1;33m,\u001b[0m\u001b[1;36m0\u001b[0m\u001b[1;33m,\u001b[0m\u001b[1;36m0\u001b[0m\u001b[1;33m,\u001b[0m\u001b[1;36m0\u001b[0m\u001b[1;33m,\u001b[0m\u001b[1;36m0\u001b[0m\u001b[1;33m,\u001b[0m\u001b[1;36m0\u001b[0m\u001b[1;33m,\u001b[0m\u001b[1;36m0\u001b[0m\u001b[1;33m,\u001b[0m\u001b[1;36m0\u001b[0m\u001b[1;33m]\u001b[0m\u001b[1;33m\u001b[0m\u001b[1;33m\u001b[0m\u001b[0m\n\u001b[0;32m     45\u001b[0m   \u001b[1;32mfor\u001b[0m \u001b[0mrow\u001b[0m\u001b[1;33m,\u001b[0m \u001b[0mele\u001b[0m \u001b[1;32min\u001b[0m \u001b[0mzip\u001b[0m\u001b[1;33m(\u001b[0m\u001b[0mmatrix\u001b[0m\u001b[1;33m,\u001b[0m \u001b[0mele_list\u001b[0m\u001b[1;33m)\u001b[0m\u001b[1;33m:\u001b[0m\u001b[1;33m\u001b[0m\u001b[1;33m\u001b[0m\u001b[0m\n\u001b[1;32m---> 46\u001b[1;33m     \u001b[0mtemp\u001b[0m \u001b[1;33m=\u001b[0m \u001b[0mmulVectors\u001b[0m\u001b[1;33m(\u001b[0m\u001b[0mrow\u001b[0m\u001b[1;33m,\u001b[0m \u001b[0mele\u001b[0m\u001b[1;33m)\u001b[0m\u001b[1;33m\u001b[0m\u001b[1;33m\u001b[0m\u001b[0m\n\u001b[0m\u001b[0;32m     47\u001b[0m     \u001b[0mres\u001b[0m\u001b[1;33m=\u001b[0m \u001b[0maddVectors\u001b[0m\u001b[1;33m(\u001b[0m\u001b[0mtemp\u001b[0m\u001b[1;33m,\u001b[0m \u001b[0mres\u001b[0m\u001b[1;33m)\u001b[0m\u001b[1;33m\u001b[0m\u001b[1;33m\u001b[0m\u001b[0m\n\u001b[0;32m     48\u001b[0m   \u001b[1;32mreturn\u001b[0m \u001b[0mres\u001b[0m\u001b[1;33m\u001b[0m\u001b[1;33m\u001b[0m\u001b[0m\n",
      "\u001b[1;32m<ipython-input-1-581eaef161dd>\u001b[0m in \u001b[0;36mmulVectors\u001b[1;34m(vec, ele)\u001b[0m\n\u001b[0;32m     39\u001b[0m     \u001b[0mres\u001b[0m\u001b[1;33m=\u001b[0m \u001b[1;33m[\u001b[0m\u001b[1;36m0\u001b[0m\u001b[1;33m,\u001b[0m\u001b[1;36m0\u001b[0m\u001b[1;33m,\u001b[0m\u001b[1;36m0\u001b[0m\u001b[1;33m,\u001b[0m\u001b[1;36m0\u001b[0m\u001b[1;33m,\u001b[0m\u001b[1;36m0\u001b[0m\u001b[1;33m,\u001b[0m\u001b[1;36m0\u001b[0m\u001b[1;33m,\u001b[0m\u001b[1;36m0\u001b[0m\u001b[1;33m,\u001b[0m\u001b[1;36m0\u001b[0m\u001b[1;33m]\u001b[0m\u001b[1;33m\u001b[0m\u001b[1;33m\u001b[0m\u001b[0m\n\u001b[0;32m     40\u001b[0m     \u001b[1;32mfor\u001b[0m \u001b[0mi\u001b[0m\u001b[1;33m,\u001b[0m \u001b[0me\u001b[0m \u001b[1;32min\u001b[0m \u001b[0menumerate\u001b[0m\u001b[1;33m(\u001b[0m\u001b[0mvec\u001b[0m\u001b[1;33m)\u001b[0m\u001b[1;33m:\u001b[0m\u001b[1;33m\u001b[0m\u001b[1;33m\u001b[0m\u001b[0m\n\u001b[1;32m---> 41\u001b[1;33m       \u001b[0mres\u001b[0m\u001b[1;33m[\u001b[0m\u001b[0mi\u001b[0m\u001b[1;33m]\u001b[0m \u001b[1;33m=\u001b[0m \u001b[0mMultiply\u001b[0m\u001b[1;33m(\u001b[0m\u001b[0me\u001b[0m\u001b[1;33m,\u001b[0m\u001b[0mele\u001b[0m\u001b[1;33m)\u001b[0m\u001b[1;33m\u001b[0m\u001b[1;33m\u001b[0m\u001b[0m\n\u001b[0m\u001b[0;32m     42\u001b[0m     \u001b[1;32mreturn\u001b[0m \u001b[0mres\u001b[0m\u001b[1;33m\u001b[0m\u001b[1;33m\u001b[0m\u001b[0m\n\u001b[0;32m     43\u001b[0m \u001b[1;33m\u001b[0m\u001b[0m\n",
      "\u001b[1;31mNameError\u001b[0m: name 'Multiply' is not defined"
     ]
    }
   ],
   "source": [
    "def EAEAE (plaintext, lin_mat, exp_mat): # Defines EAEAE\n",
    "  plaintext = [ord(c) for c in plaintext]\n",
    "  op = [[0 for i in range(8)] for j in range(8)]\n",
    "  #First Layer - Exponentiation\n",
    "  for index, ele in enumerate(plaintext):\n",
    "      op[0][index] = Exponentiate(ele, exp_mat[index])\n",
    "\n",
    "  #Second Layer - Linear Transform\n",
    "  op[1] = LinearTransform(lin_mat, op[0])\n",
    "\n",
    "  #Third Layer - Exponentiation\n",
    "  for index, ele in enumerate(op[1]):\n",
    "      op[2][index] = Exponentiate(ele, exp_mat[index])\n",
    "\n",
    "  #Fourth Layer - Linear Transform\n",
    "  op[3] = LinearTransform(lin_mat, op[2])\n",
    "\n",
    "  #Fifth Layer - Exponentiation\n",
    "  for index, ele in enumerate(op[3]):\n",
    "      op[4][index] = Exponentiate(ele, exp_mat[index])\n",
    "      \n",
    "  return op[4]\n",
    "\n",
    "\n",
    "input_file = open('plaintexts.txt','r')\n",
    "output_file = open('ciphertexts.txt','r')\n",
    "input = input_file.readlines()\n",
    "output = output_file.readlines()\n",
    "\n",
    "\n",
    "input_string = []\n",
    "for i in range(len(input)):\n",
    "    x = []\n",
    "    for msg in input[i].strip().split(' '):\n",
    "        x.append(decode_block(msg))\n",
    "    input_string.append(x)\n",
    "\n",
    "\n",
    "output_string = []\n",
    "for i in range(len(output)):\n",
    "    x = []\n",
    "    for msg in output[i].strip().split(' '):\n",
    "        x.append(decode_block(msg))\n",
    "    output_string.append(x)\n",
    "\n",
    "\n",
    "\n",
    "for indexex in range(0,6):\n",
    "    offset = indexex + 2\n",
    "    \n",
    "   \n",
    "    exp_list = [e[0] for e in PossibleExponents]\n",
    "    lin_trans_list = np.zeros((8,8),int)\n",
    "\n",
    "    for i in range(8):\n",
    "      for j in range(8):     \n",
    "        if(len(possibleDiagonalVals[i][j]) != 0):\n",
    "            lin_trans_list[i][j] = possibleDiagonalVals[i][j][0]\n",
    "        else:\n",
    "            lin_trans_list[i][j] = 0\n",
    "          \n",
    "\n",
    "    \n",
    "    for index in range(8):\n",
    "        if(index > (7-offset)):\n",
    "            continue\n",
    "\n",
    "        for i in range(127):\n",
    "            lin_trans_list[index][index+offset] = i+1\n",
    "            flag = True\n",
    "            for inps, outs in zip(input_string[index], output_string[index]):\n",
    "                x1 = EAEAE(inps, lin_trans_list, exp_list)[index+offset]\n",
    "                x2 = outs[index+offset]\n",
    "                if x1 != ord(x2):\n",
    "                    flag = False\n",
    "                    break\n",
    "            if flag==True:\n",
    "                possibleDiagonalVals[index][index+offset] = [i+1]\n",
    "                \n",
    "lin_trans_list = np.zeros((8,8),dtype='int')\n",
    "\n",
    "for i in range(0,8):\n",
    "    for j in range(0,8):\n",
    "      if len(possibleDiagonalVals[i][j]) != 0:\n",
    "        lin_trans_list[i][j] = possibleDiagonalVals[i][j][0]\n",
    "\n",
    "\n",
    "A = [[lin_trans_list[j][i] for j in range(8)] for i in range(8)]\n",
    "E = exp_list\n",
    "\n"
   ]
  },
  {
   "cell_type": "code",
   "execution_count": null,
   "id": "73301b5e",
   "metadata": {},
   "outputs": [],
   "source": []
  },
  {
   "cell_type": "code",
   "execution_count": null,
   "id": "5c3b207b",
   "metadata": {},
   "outputs": [],
   "source": []
  }
 ],
 "metadata": {
  "kernelspec": {
   "display_name": "Python 3",
   "language": "python",
   "name": "python3"
  },
  "language_info": {
   "codemirror_mode": {
    "name": "ipython",
    "version": 3
   },
   "file_extension": ".py",
   "mimetype": "text/x-python",
   "name": "python",
   "nbconvert_exporter": "python",
   "pygments_lexer": "ipython3",
   "version": "3.8.8"
  },
  "varInspector": {
   "cols": {
    "lenName": 16,
    "lenType": 16,
    "lenVar": 40
   },
   "kernels_config": {
    "python": {
     "delete_cmd_postfix": "",
     "delete_cmd_prefix": "del ",
     "library": "var_list.py",
     "varRefreshCmd": "print(var_dic_list())"
    },
    "r": {
     "delete_cmd_postfix": ") ",
     "delete_cmd_prefix": "rm(",
     "library": "var_list.r",
     "varRefreshCmd": "cat(var_dic_list()) "
    }
   },
   "types_to_exclude": [
    "module",
    "function",
    "builtin_function_or_method",
    "instance",
    "_Feature"
   ],
   "window_display": false
  }
 },
 "nbformat": 4,
 "nbformat_minor": 5
}

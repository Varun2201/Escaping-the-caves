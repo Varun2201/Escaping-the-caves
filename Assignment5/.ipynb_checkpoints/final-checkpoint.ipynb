{
 "cells": [
  {
   "cell_type": "code",
   "execution_count": 1,
   "id": "87076cc2",
   "metadata": {
    "ExecuteTime": {
     "end_time": "2022-03-30T14:39:31.124700Z",
     "start_time": "2022-03-30T14:39:30.845754Z"
    }
   },
   "outputs": [],
   "source": [
    "import numpy as np\n",
    "from pyfinite import ffield\n",
    "import galois\n",
    "\n",
    "F = ffield.FField(7, gen=0x83, useLUT=-1)\n",
    "\n",
    "def Exponentiate(base,power):\n",
    "    ans = base\n",
    "    for i in range(1,power):\n",
    "        ans = F.Multiply(ans,base)\n",
    "    return ans\n",
    "\n",
    "\n",
    "def LinearTransform(linmat,msg):\n",
    "    ans = [0]*8\n",
    "    for i in range(8):\n",
    "        temp  = []\n",
    "        mul = [F.Multiply(linmat[i][j],msg[i]) for j in range(8)]\n",
    "        for k in range(8):\n",
    "            temp.append(np.bitwise_xor(ans[k],mul[k]))\n",
    "        ans = temp\n",
    "    return ans"
   ]
  },
  {
   "cell_type": "code",
   "execution_count": 2,
   "id": "0b3ca134",
   "metadata": {
    "ExecuteTime": {
     "end_time": "2022-03-30T14:39:31.140239Z",
     "start_time": "2022-03-30T14:39:31.127685Z"
    }
   },
   "outputs": [],
   "source": [
    "def decode_block(cipher):\n",
    "  plain= \"\"\n",
    "  for i in range(0,len(cipher),2):\n",
    "      plain+=chr(16*(ord(cipher[i:i+2][0]) - ord('f')) + ord(cipher[i:i+2][1]) - ord('f'))\n",
    "  return plain"
   ]
  },
  {
   "cell_type": "code",
   "execution_count": 3,
   "id": "3515a340",
   "metadata": {
    "ExecuteTime": {
     "start_time": "2022-03-30T14:39:30.846Z"
    },
    "scrolled": true
   },
   "outputs": [
    {
     "name": "stdout",
     "output_type": "stream",
     "text": [
      "Possible diagonal values: \n",
      "[[[84, 40, 49], [], [], [], [], [], [], []], [[], [122, 62, 70], [], [], [], [], [], []], [[], [], [119, 43, 5], [], [], [], [], []], [[], [], [], [68, 95, 12], [], [], [], []], [[], [], [], [], [47, 112, 96], [], [], []], [[], [], [], [], [], [38, 11, 58], [], []], [[], [], [], [], [], [], [27, 14], []], [[], [], [], [], [], [], [], [38, 92, 91]]]\n",
      "Possible exponents: \n",
      "[[22, 37, 68], [26, 113, 115], [2, 38, 87], [17, 41, 69], [65, 92, 97], [29, 43, 55], [20, 108], [26, 113, 115]]\n",
      "===========================\n",
      "[[[84], [112], [], [], [], [], [], []], [[], [70], [30], [], [], [], [], []], [[], [], [43], [3], [], [], [], []], [[], [], [], [12], [104], [], [], []], [[], [], [], [], [112], [99], [], []], [[], [], [], [], [], [11], [88], []], [[], [], [], [], [], [], [27], [30]], [[], [], [], [], [], [], [], [38]]]\n",
      "[[22], [115], [38], [69], [92], [43], [20], [26]]\n"
     ]
    }
   ],
   "source": [
    "#for diagonal elements\n",
    "PossibleExponents = [[] for i in range(8)]   \n",
    "possibleDiagonalVals=[[[] for i in range(8)] for j in range(8)]\n",
    "input_file = open('plaintexts.txt','r')\n",
    "output_file = open('ciphertexts.txt','r')\n",
    "input = (input_file.readlines()[0]).strip().split(' ')\n",
    "output = output_file.readlines()\n",
    "\n",
    "input_string = []\n",
    "for msg in input:\n",
    "    input_string.append(decode_block(msg)[0])\n",
    "#print(input_string)\n",
    "#print(len(output))\n",
    "output_string = []\n",
    "for i in range(len(output)):\n",
    "    x = []\n",
    "    for msg in output[i].strip().split(' '):\n",
    "        x.append(decode_block(msg)[i])\n",
    "    output_string.append(x)\n",
    "#print(output_string)\n",
    "for k in range(8):\n",
    "    for i in range(1, 127):\n",
    "        for j in range(1, 128):\n",
    "          flag = True\n",
    "          for m in range(128):\n",
    "            if(ord(output_string[k][m]) != Exponentiate(F.Multiply(Exponentiate(F.Multiply(Exponentiate(ord(input_string[m]), i), j), i), j), i)):\n",
    "              flag = False\n",
    "              break\n",
    "          if(flag):\n",
    "            PossibleExponents[k].append(i)\n",
    "            possibleDiagonalVals[k][k].append(j)\n",
    "print(\"Possible diagonal values: \")\n",
    "print(possibleDiagonalVals)\n",
    "print(\"Possible exponents: \")\n",
    "print(PossibleExponents)\n",
    "\n",
    "\n",
    "output_string = []\n",
    "for i in range(len(output)-1):\n",
    "    x = []\n",
    "    for msg in output[i].strip().split(' '):\n",
    "        x.append(decode_block(msg)[i+1])\n",
    "    output_string.append(x)\n",
    "\n",
    "for ind in range(7):\n",
    "  for i in range(1, 128):\n",
    "      for p1, e1 in zip(PossibleExponents[ind+1], possibleDiagonalVals[ind+1][ind+1]):\n",
    "          for p2, e2 in zip(PossibleExponents[ind], possibleDiagonalVals[ind][ind]):\n",
    "              for k in range(128):\n",
    "                  flag = True\n",
    "                  x1 = F.Multiply(Exponentiate(F.Multiply(Exponentiate(ord(input_string[k]), p2), e2), p2), i)\n",
    "                  x2 = F.Multiply(Exponentiate(F.Multiply(Exponentiate(ord(input_string[k]), p2), i), p1), e1)\n",
    "                  c1 = np.bitwise_xor(x1,x2)\n",
    "                  if(ord(output_string[ind][k]) != Exponentiate(c1,p1)):\n",
    "                      flag = False\n",
    "                      break\n",
    "              if flag:\n",
    "                  PossibleExponents[ind+1] = [p1]\n",
    "                  possibleDiagonalVals[ind+1][ind+1] = [e1]\n",
    "                  PossibleExponents[ind] = [p2]\n",
    "                  possibleDiagonalVals[ind][ind] = [e2]\n",
    "                  possibleDiagonalVals[ind][ind+1] = [i]\n",
    "print('===========================')\n",
    "print(possibleDiagonalVals)\n",
    "print(PossibleExponents)\n"
   ]
  },
  {
   "cell_type": "code",
   "execution_count": 4,
   "id": "ff2fe30e",
   "metadata": {
    "ExecuteTime": {
     "start_time": "2022-03-30T14:39:30.851Z"
    },
    "scrolled": true
   },
   "outputs": [
    {
     "name": "stdout",
     "output_type": "stream",
     "text": [
      "[[ 84   0   0   0   0   0   0   0]\n",
      " [112  70   0   0   0   0   0   0]\n",
      " [ 13  30  43   0   0   0   0   0]\n",
      " [102  16   3  12   0   0   0   0]\n",
      " [111  62   0 104 112   0   0   0]\n",
      " [ 25  50  25  51  99  11   0   0]\n",
      " [  8 123  23 103  25  88  27   0]\n",
      " [ 67   3  74  26  10  66  30  38]]\n",
      "[22, 115, 38, 69, 92, 43, 20, 26]\n"
     ]
    }
   ],
   "source": [
    "def EAEAE (plaintext, lin_mat, exp_mat): # Defines EAEAE\n",
    "  plaintext = [ord(c) for c in plaintext]\n",
    "  op = [[0 for i in range(8)] for j in range(8)]\n",
    "  #First Layer - Exponentiation\n",
    "  for index, ele in enumerate(plaintext):\n",
    "      op[0][index] = Exponentiate(ele, exp_mat[index])\n",
    "  #Second Layer - Linear Transform\n",
    "  op[1] = LinearTransform(lin_mat, op[0])\n",
    "\n",
    "  #Third Layer - Exponentiation\n",
    "  for index, ele in enumerate(op[1]):\n",
    "      op[2][index] = Exponentiate(ele, exp_mat[index])\n",
    "\n",
    "  #Fourth Layer - Linear Transform\n",
    "  op[3] = LinearTransform(lin_mat, op[2])\n",
    "\n",
    "  #Fifth Layer - Exponentiation\n",
    "  for index, ele in enumerate(op[3]):\n",
    "      op[4][index] = Exponentiate(ele, exp_mat[index])\n",
    "      \n",
    "  return op[4]\n",
    "\n",
    "\n",
    "input_file = open('plaintexts.txt','r')\n",
    "output_file = open('ciphertexts.txt','r')\n",
    "input = input_file.readlines()\n",
    "output = output_file.readlines()\n",
    "\n",
    "\n",
    "input_string = []\n",
    "for i in range(len(input)):\n",
    "    x = []\n",
    "    for msg in input[i].strip().split(' '):\n",
    "        x.append(decode_block(msg))\n",
    "    input_string.append(x)\n",
    "\n",
    "\n",
    "output_string = []\n",
    "for i in range(len(output)):\n",
    "    x = []\n",
    "    for msg in output[i].strip().split(' '):\n",
    "        x.append(decode_block(msg))\n",
    "    output_string.append(x)\n",
    "\n",
    "for indexex in range(0,6):\n",
    "    offset = indexex + 2\n",
    "    \n",
    "    exp_list = [e[0] for e in PossibleExponents]\n",
    "    lin_trans_list = np.zeros((8,8),int)\n",
    "\n",
    "    for i in range(8):\n",
    "      for j in range(8):     \n",
    "        if(len(possibleDiagonalVals[i][j]) != 0):\n",
    "            lin_trans_list[i][j] = possibleDiagonalVals[i][j][0]\n",
    "        else:\n",
    "            lin_trans_list[i][j] = 0\n",
    "    \n",
    "    for index in range(8):\n",
    "        if(index > (7-offset)):\n",
    "            continue\n",
    "\n",
    "        for i in range(127):\n",
    "            lin_trans_list[index][index+offset] = i+1\n",
    "            flag = True\n",
    "            for inps, outs in zip(input_string[index], output_string[index]):\n",
    "                x1 = EAEAE(inps, lin_trans_list, exp_list)[index+offset]\n",
    "                x2 = outs[index+offset]\n",
    "                if x1 != ord(x2):\n",
    "                    flag = False\n",
    "                    break\n",
    "            if flag==True:\n",
    "                possibleDiagonalVals[index][index+offset] = [i+1]\n",
    "                \n",
    "A = np.zeros((8,8),dtype='int')\n",
    "\n",
    "for i in range(0,8):\n",
    "    for j in range(0,8):\n",
    "      if len(possibleDiagonalVals[j][i]) != 0:\n",
    "       A[i][j] = possibleDiagonalVals[j][i][0]\n",
    "\n",
    "\n",
    "\n",
    "E = exp_list\n",
    "\n",
    "print(A)\n",
    "print(E)"
   ]
  },
  {
   "cell_type": "code",
   "execution_count": 5,
   "id": "b48659d1",
   "metadata": {},
   "outputs": [],
   "source": [
    "F = ffield.FField(7, gen=0x83, useLUT=-1)\n",
    "A = np.array((A))\n",
    "Einverse = np.zeros((128, 128), dtype = int)\n",
    "exponents = [[1] for i in range(128)]\n",
    "   \n",
    "for base in range(0,128):\n",
    "    for exponent in range(1,127):\n",
    "        temp = exponents[base][exponent-1]\n",
    "        result = F.Multiply(temp, base)\n",
    "        exponents[base]+=[result]\n",
    "        Einverse[exponent][exponents[base][exponent]] = base\n",
    "    \n",
    "GF = galois.GF(2**7)\n",
    "A = GF(A)\n",
    "invA = np.linalg.inv(A)"
   ]
  },
  {
   "cell_type": "code",
   "execution_count": 6,
   "id": "proud-shore",
   "metadata": {
    "ExecuteTime": {
     "start_time": "2022-03-30T14:39:30.862Z"
    }
   },
   "outputs": [
    {
     "name": "stdout",
     "output_type": "stream",
     "text": [
      "Password is vtokdpmweo000000\n"
     ]
    }
   ],
   "source": [
    "password = \"gsfojqmrimffismjfkjtkpkujlmjhjkp\" #Encrypted password\n",
    "GF = galois.GF(2**7)\n",
    "\n",
    "def Einv(block, E):\n",
    "    transformed = []\n",
    "    for j in range(0,8):\n",
    "        transformed+=[Einverse[E[j]][block[j]]]\n",
    "    return transformed\n",
    "\n",
    "def Ainv(block, A):\n",
    "    block = GF(block)\n",
    "    A = GF(A)\n",
    "    return np.matmul(A,block)\n",
    "\n",
    "decrypted_password = \"\"\n",
    "for i in range(0,2): \n",
    "    elements = password[16*i:16*(i+1)]\n",
    "    currentBlock = []\n",
    "    for j in range(0,15,2):\n",
    "        currentBlock+=[(ord(elements[j]) - ord('f'))*16 + (ord(elements[j+1]) - ord('f'))]\n",
    "    EAEAE = Einv(Ainv(Einv(Ainv(Einv(currentBlock, E), invA),E), invA),E)\n",
    "    for ch in EAEAE:\n",
    "        decrypted_password += chr(ch)\n",
    "    \n",
    "print(\"Password is\",decrypted_password)\n",
    "    "
   ]
  },
  {
   "cell_type": "code",
   "execution_count": null,
   "id": "f08acfcb",
   "metadata": {},
   "outputs": [],
   "source": []
  },
  {
   "cell_type": "code",
   "execution_count": null,
   "id": "f8aa5b12",
   "metadata": {},
   "outputs": [],
   "source": []
  },
  {
   "cell_type": "code",
   "execution_count": null,
   "id": "a7e902e9",
   "metadata": {},
   "outputs": [],
   "source": []
  }
 ],
 "metadata": {
  "kernelspec": {
   "display_name": "Python 3",
   "language": "python",
   "name": "python3"
  },
  "language_info": {
   "codemirror_mode": {
    "name": "ipython",
    "version": 3
   },
   "file_extension": ".py",
   "mimetype": "text/x-python",
   "name": "python",
   "nbconvert_exporter": "python",
   "pygments_lexer": "ipython3",
   "version": "3.8.8"
  },
  "varInspector": {
   "cols": {
    "lenName": 16,
    "lenType": 16,
    "lenVar": 40
   },
   "kernels_config": {
    "python": {
     "delete_cmd_postfix": "",
     "delete_cmd_prefix": "del ",
     "library": "var_list.py",
     "varRefreshCmd": "print(var_dic_list())"
    },
    "r": {
     "delete_cmd_postfix": ") ",
     "delete_cmd_prefix": "rm(",
     "library": "var_list.r",
     "varRefreshCmd": "cat(var_dic_list()) "
    }
   },
   "types_to_exclude": [
    "module",
    "function",
    "builtin_function_or_method",
    "instance",
    "_Feature"
   ],
   "window_display": false
  }
 },
 "nbformat": 4,
 "nbformat_minor": 5
}
